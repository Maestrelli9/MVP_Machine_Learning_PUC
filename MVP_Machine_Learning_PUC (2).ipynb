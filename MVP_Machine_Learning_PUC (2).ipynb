{
  "nbformat": 4,
  "nbformat_minor": 0,
  "metadata": {
    "colab": {
      "provenance": []
    },
    "kernelspec": {
      "name": "python3",
      "display_name": "Python 3"
    },
    "language_info": {
      "name": "python"
    }
  },
  "cells": [
    {
      "cell_type": "markdown",
      "source": [
        "# Classificação de Jogos Candidatos ao GOTY\n",
        "\n",
        "Este notebook desenvolve um modelo para identificar jogos que poderiam ser candidatos ao **Game of the Year (GOTY)** usando o *Steam Games Dataset*.\n",
        "\n",
        "Como trabalhei outros MVPs nesta linha dos jogos, decidi usar os conhecimentos adquiridos anteriormente para aplicar neste treinamento. A proposta envolve uma classificação supervisionada que visa sugerir jogos potencialmente candidatos ao prêmio GOTY, com base nas informações disponíveis no dataset.\n"
      ],
      "metadata": {
        "id": "uqJTRDXB5xvK"
      }
    },
    {
      "cell_type": "code",
      "execution_count": 1,
      "metadata": {
        "id": "FgCyyUEK5rNu"
      },
      "outputs": [],
      "source": [
        "import pandas as pd\n",
        "import numpy as np\n",
        "import matplotlib.pyplot as plt\n",
        "import seaborn as sns\n",
        "from sklearn.model_selection import train_test_split\n"
      ]
    },
    {
      "cell_type": "markdown",
      "source": [
        "## Escolha do Dataset e Importação\n",
        "\n",
        "Foi escolhido um dataset do Kaggle, utilizado previamente em um MVP, que contém informações relevantes para o problema. O dataset foi armazenado em uma pasta no Google Drive para ser acessado diretamente pelo Colab.\n",
        "\n",
        "A escolha deste dataset se deu pela disponibilidade de informações críticas, como notas dos críticos e vendas totais, que são cruciais para a classificação dos jogos.\n"
      ],
      "metadata": {
        "id": "82qYYL7S5WjX"
      }
    },
    {
      "cell_type": "code",
      "source": [
        "import pandas as pd\n",
        "\n",
        "# URL do dataset no GitHub\n",
        "url = \"https://raw.githubusercontent.com/Maestrelli9/MVP_Machine_Learning_PUC/refs/heads/main/vgchartz-2024.csv\"\n",
        "\n",
        "# Carregar o dataset usando Pandas\n",
        "data = pd.read_csv(url)\n",
        "\n",
        "# Exibir as primeiras linhas do dataset\n",
        "print(data.head())\n",
        "\n",
        "\n",
        "\n",
        "\n"
      ],
      "metadata": {
        "colab": {
          "base_uri": "https://localhost:8080/"
        },
        "id": "hX5uDyojSOQN",
        "outputId": "daf27b7b-dbb6-4f22-ab20-f31a63a94b99"
      },
      "execution_count": 2,
      "outputs": [
        {
          "output_type": "stream",
          "name": "stdout",
          "text": [
            "                                             img                        title  \\\n",
            "0  /games/boxart/full_6510540AmericaFrontccc.jpg           Grand Theft Auto V   \n",
            "1  /games/boxart/full_5563178AmericaFrontccc.jpg           Grand Theft Auto V   \n",
            "2                    /games/boxart/827563ccc.jpg  Grand Theft Auto: Vice City   \n",
            "3  /games/boxart/full_9218923AmericaFrontccc.jpg           Grand Theft Auto V   \n",
            "4  /games/boxart/full_4990510AmericaFrontccc.jpg    Call of Duty: Black Ops 3   \n",
            "\n",
            "  console    genre       publisher       developer  critic_score  total_sales  \\\n",
            "0     PS3   Action  Rockstar Games  Rockstar North           9.4        20.32   \n",
            "1     PS4   Action  Rockstar Games  Rockstar North           9.7        19.39   \n",
            "2     PS2   Action  Rockstar Games  Rockstar North           9.6        16.15   \n",
            "3    X360   Action  Rockstar Games  Rockstar North           NaN        15.86   \n",
            "4     PS4  Shooter      Activision        Treyarch           8.1        15.09   \n",
            "\n",
            "   na_sales  jp_sales  pal_sales  other_sales release_date last_update  \n",
            "0      6.37      0.99       9.85         3.12   2013-09-17         NaN  \n",
            "1      6.06      0.60       9.71         3.02   2014-11-18  2018-01-03  \n",
            "2      8.41      0.47       5.49         1.78   2002-10-28         NaN  \n",
            "3      9.06      0.06       5.33         1.42   2013-09-17         NaN  \n",
            "4      6.18      0.41       6.05         2.44   2015-11-06  2018-01-14  \n"
          ]
        }
      ]
    },
    {
      "cell_type": "code",
      "source": [
        "#Mostrando as colunas para que possa decidir o que manter\n",
        "print(data.columns)\n"
      ],
      "metadata": {
        "colab": {
          "base_uri": "https://localhost:8080/"
        },
        "id": "GGtvtO6n5hA0",
        "outputId": "dd8d4d32-edaa-499f-bb55-682ac1930b20"
      },
      "execution_count": 3,
      "outputs": [
        {
          "output_type": "stream",
          "name": "stdout",
          "text": [
            "Index(['img', 'title', 'console', 'genre', 'publisher', 'developer',\n",
            "       'critic_score', 'total_sales', 'na_sales', 'jp_sales', 'pal_sales',\n",
            "       'other_sales', 'release_date', 'last_update'],\n",
            "      dtype='object')\n"
          ]
        }
      ]
    },
    {
      "cell_type": "markdown",
      "source": [
        "## Limpeza e Preparação dos Dados\n",
        "\n",
        "Após carregar o dataset, foi realizada uma análise inicial das colunas disponíveis. Algumas colunas, como desenvolvedores e publicadores, foram descartadas, pois não influenciam diretamente na classificação de jogos como candidatos ao GOTY. A ideia foi reduzir o volume de dados, mantendo informações essenciais para o modelo.\n",
        "\n",
        "Os dados restantes incluem:\n",
        "- **Gênero do Jogo (`genre`)**.\n",
        "- **Nota dos Críticos (`critic_score`)**.\n",
        "- **Vendas Totais (`total_sales`)**.\n",
        "- **Data de Lançamento (`release_date`)**.\n",
        "\n"
      ],
      "metadata": {
        "id": "XEIiqYvk5vm3"
      }
    },
    {
      "cell_type": "code",
      "source": [
        "columns_to_drop = ['img', 'console','publisher', 'developer', 'na_sales', 'jp_sales', 'pal_sales', 'other_sales', 'last_update']  # Substitua pelos nomes das colunas a serem removidas\n",
        "data = data.drop(columns=columns_to_drop)\n",
        "\n",
        "# Verifique as primeiras linhas após a remoção\n",
        "print(data.head())\n"
      ],
      "metadata": {
        "colab": {
          "base_uri": "https://localhost:8080/"
        },
        "id": "zKpQl32d5qDw",
        "outputId": "574c851d-f135-47f3-cdea-ce0e991b5630"
      },
      "execution_count": 4,
      "outputs": [
        {
          "output_type": "stream",
          "name": "stdout",
          "text": [
            "                         title    genre  critic_score  total_sales  \\\n",
            "0           Grand Theft Auto V   Action           9.4        20.32   \n",
            "1           Grand Theft Auto V   Action           9.7        19.39   \n",
            "2  Grand Theft Auto: Vice City   Action           9.6        16.15   \n",
            "3           Grand Theft Auto V   Action           NaN        15.86   \n",
            "4    Call of Duty: Black Ops 3  Shooter           8.1        15.09   \n",
            "\n",
            "  release_date  \n",
            "0   2013-09-17  \n",
            "1   2014-11-18  \n",
            "2   2002-10-28  \n",
            "3   2013-09-17  \n",
            "4   2015-11-06  \n"
          ]
        }
      ]
    },
    {
      "cell_type": "markdown",
      "source": [
        "## Tratamento de Dados Faltantes e Duplicados\n",
        "\n",
        "1. **Valores Faltantes:**\n",
        "   Todos os valores nulos ou ausentes foram removidos do dataset para garantir que apenas dados completos fossem utilizados no treinamento.\n",
        "\n",
        "2. **Linhas Duplicadas:**\n",
        "   Muitos jogos apareceram mais de uma vez no dataset devido ao lançamento em múltiplas plataformas. Essas duplicatas foram consolidadas, mantendo:\n",
        "   - A maior nota de crítica (`critic_score`).\n",
        "   - A soma das vendas totais entre as plataformas (`total_sales`).\n",
        "   - O primeiro gênero listado (`genre`).\n",
        "   - A data mais antiga de lançamento (`release_date`).\n"
      ],
      "metadata": {
        "id": "lr2Zp5Ct56Ei"
      }
    },
    {
      "cell_type": "code",
      "source": [
        "# Substitua 'game_name' pelo nome correto da coluna do título\n",
        "game_name = \"Grand Theft Auto V\"  # Coloque o nome do jogo que você deseja pesquisar\n",
        "\n",
        "# Filtrando os dados para encontrar o jogo específico\n",
        "game_data = data[data['title'] == game_name]\n",
        "\n",
        "# Exibindo o resultado\n",
        "print(game_data)\n"
      ],
      "metadata": {
        "colab": {
          "base_uri": "https://localhost:8080/"
        },
        "id": "qetjH9NU5kWP",
        "outputId": "6a72cd96-6a60-4bc4-ef17-ac3ae28e33d5"
      },
      "execution_count": 5,
      "outputs": [
        {
          "output_type": "stream",
          "name": "stdout",
          "text": [
            "                    title             genre  critic_score  total_sales  \\\n",
            "0      Grand Theft Auto V            Action           9.4        20.32   \n",
            "1      Grand Theft Auto V            Action           9.7        19.39   \n",
            "3      Grand Theft Auto V            Action           NaN        15.86   \n",
            "28     Grand Theft Auto V            Action           9.0         8.72   \n",
            "18932  Grand Theft Auto V            Action           NaN          NaN   \n",
            "29011  Grand Theft Auto V  Action-Adventure           NaN          NaN   \n",
            "29894  Grand Theft Auto V  Action-Adventure           NaN          NaN   \n",
            "29895  Grand Theft Auto V  Action-Adventure           NaN          NaN   \n",
            "\n",
            "      release_date  \n",
            "0       2013-09-17  \n",
            "1       2014-11-18  \n",
            "3       2013-09-17  \n",
            "28      2014-11-18  \n",
            "18932   2015-04-14  \n",
            "29011   2013-09-17  \n",
            "29894   2021-12-01  \n",
            "29895   2021-12-01  \n"
          ]
        }
      ]
    },
    {
      "cell_type": "code",
      "source": [
        "print(data.isnull().sum())  # Exibe a contagem de valores ausentes por coluna\n",
        "\n"
      ],
      "metadata": {
        "colab": {
          "base_uri": "https://localhost:8080/"
        },
        "id": "-PI7k3H9uzPe",
        "outputId": "07512745-94b8-4e5f-845b-4525161f955b"
      },
      "execution_count": 6,
      "outputs": [
        {
          "output_type": "stream",
          "name": "stdout",
          "text": [
            "title               0\n",
            "genre               0\n",
            "critic_score    57338\n",
            "total_sales     45094\n",
            "release_date     7051\n",
            "dtype: int64\n"
          ]
        }
      ]
    },
    {
      "cell_type": "code",
      "source": [
        "# Remover todas as linhas com valores NaN\n",
        "data = data.dropna()\n",
        "\n",
        "# Verificar o resultado\n",
        "print(data.info())  # Exibe informações sobre o dataset para confirmar a remoção\n",
        "print(data.head())  # Mostra as primeiras linhas do dataset\n",
        "\n"
      ],
      "metadata": {
        "colab": {
          "base_uri": "https://localhost:8080/"
        },
        "id": "yxQVvWcovubd",
        "outputId": "f1f8da3d-1de0-4ab0-dacb-9def4617ec93"
      },
      "execution_count": 7,
      "outputs": [
        {
          "output_type": "stream",
          "name": "stdout",
          "text": [
            "<class 'pandas.core.frame.DataFrame'>\n",
            "Index: 4123 entries, 0 to 18919\n",
            "Data columns (total 5 columns):\n",
            " #   Column        Non-Null Count  Dtype  \n",
            "---  ------        --------------  -----  \n",
            " 0   title         4123 non-null   object \n",
            " 1   genre         4123 non-null   object \n",
            " 2   critic_score  4123 non-null   float64\n",
            " 3   total_sales   4123 non-null   float64\n",
            " 4   release_date  4123 non-null   object \n",
            "dtypes: float64(2), object(3)\n",
            "memory usage: 193.3+ KB\n",
            "None\n",
            "                            title    genre  critic_score  total_sales  \\\n",
            "0              Grand Theft Auto V   Action           9.4        20.32   \n",
            "1              Grand Theft Auto V   Action           9.7        19.39   \n",
            "2     Grand Theft Auto: Vice City   Action           9.6        16.15   \n",
            "4       Call of Duty: Black Ops 3  Shooter           8.1        15.09   \n",
            "5  Call of Duty: Modern Warfare 3  Shooter           8.7        14.82   \n",
            "\n",
            "  release_date  \n",
            "0   2013-09-17  \n",
            "1   2014-11-18  \n",
            "2   2002-10-28  \n",
            "4   2015-11-06  \n",
            "5   2011-11-08  \n"
          ]
        }
      ]
    },
    {
      "cell_type": "code",
      "source": [
        "# Consolidar duplicatas com base no título do jogo, mantendo as outras colunas\n",
        "consolidated_data = (\n",
        "    data.groupby(\"title\", as_index=False)  # Agrupa pelo título do jogo\n",
        "        .agg({\n",
        "            \"critic_score\": \"max\",  # Mantém a maior nota do critic_score\n",
        "            \"total_sales\": \"sum\",   # Soma as vendas totais\n",
        "            \"genre\": \"first\",       # Mantém o primeiro valor de genre\n",
        "            \"release_date\": \"first\", # Mantém o primeiro valor de release_date\n",
        "        })\n",
        ")\n",
        "\n",
        "# Exibir o resultado consolidado\n",
        "print(consolidated_data.head())\n"
      ],
      "metadata": {
        "colab": {
          "base_uri": "https://localhost:8080/"
        },
        "id": "pKLgjuce3JCc",
        "outputId": "bdc494f7-a83a-4203-91e3-fd643b0df3e2"
      },
      "execution_count": 8,
      "outputs": [
        {
          "output_type": "stream",
          "name": "stdout",
          "text": [
            "                           title  critic_score  total_sales         genre  \\\n",
            "0   .hack//G.U. Vol.2//Reminisce           6.2         0.23  Role-Playing   \n",
            "1  .hack//G.U. Vol.3//Redemption           5.7         0.17  Role-Playing   \n",
            "2        .hack//Infection Part 1           7.7         1.27  Role-Playing   \n",
            "3         .hack//Mutation Part 2           7.5         0.68  Role-Playing   \n",
            "4         .hack//Outbreak Part 3           7.1         0.46  Role-Playing   \n",
            "\n",
            "  release_date  \n",
            "0   2007-05-08  \n",
            "1   2007-09-10  \n",
            "2   2003-02-11  \n",
            "3   2003-05-07  \n",
            "4   2003-09-09  \n"
          ]
        }
      ]
    },
    {
      "cell_type": "code",
      "source": [
        "# Substitua 'game_name' pelo nome correto da coluna do título\n",
        "game_name = \"Grand Theft Auto V\"  # Coloque o nome do jogo que você deseja pesquisar\n",
        "\n",
        "# Filtrando os dados para encontrar o jogo específico\n",
        "game_data = consolidated_data[consolidated_data['title'] == game_name]\n",
        "\n",
        "# Exibindo o resultado\n",
        "print(game_data)\n"
      ],
      "metadata": {
        "colab": {
          "base_uri": "https://localhost:8080/"
        },
        "id": "sBlYjftC3zXh",
        "outputId": "adb0a7be-6f6b-497d-e612-e5840b371463"
      },
      "execution_count": 9,
      "outputs": [
        {
          "output_type": "stream",
          "name": "stdout",
          "text": [
            "                   title  critic_score  total_sales   genre release_date\n",
            "1145  Grand Theft Auto V           9.7        48.43  Action   2013-09-17\n"
          ]
        }
      ]
    },
    {
      "cell_type": "markdown",
      "source": [
        "## Definição dos Pré-requisitos para o Modelo\n",
        "\n",
        "Para o modelo inicial, foram estabelecidos critérios mínimos que caracterizam um \"Jogo do Ano\":\n",
        "- **Nota dos críticos maior ou igual a 8.0.**\n",
        "- **Vendas totais superiores a 10 milhões de unidades.**\n",
        "\n",
        "Esses critérios refletem os padrões observados nos jogos que geralmente concorrem ao prêmio GOTY.\n"
      ],
      "metadata": {
        "id": "Ib9rcnH360HX"
      }
    },
    {
      "cell_type": "code",
      "source": [
        "# Criar a variável 'is_game_of_the_year'\n",
        "consolidated_data['is_game_of_the_year'] = (consolidated_data['critic_score'] >= 8.0) & (consolidated_data['total_sales'] >= 10)\n",
        "\n",
        "# Verificar os dados\n",
        "consolidated_data.head()\n"
      ],
      "metadata": {
        "colab": {
          "base_uri": "https://localhost:8080/",
          "height": 206
        },
        "id": "4WhAYt_S8EUk",
        "outputId": "b9452bf6-801c-4642-dcba-b59f946466c7"
      },
      "execution_count": 10,
      "outputs": [
        {
          "output_type": "execute_result",
          "data": {
            "text/plain": [
              "                           title  critic_score  total_sales         genre  \\\n",
              "0   .hack//G.U. Vol.2//Reminisce           6.2         0.23  Role-Playing   \n",
              "1  .hack//G.U. Vol.3//Redemption           5.7         0.17  Role-Playing   \n",
              "2        .hack//Infection Part 1           7.7         1.27  Role-Playing   \n",
              "3         .hack//Mutation Part 2           7.5         0.68  Role-Playing   \n",
              "4         .hack//Outbreak Part 3           7.1         0.46  Role-Playing   \n",
              "\n",
              "  release_date  is_game_of_the_year  \n",
              "0   2007-05-08                False  \n",
              "1   2007-09-10                False  \n",
              "2   2003-02-11                False  \n",
              "3   2003-05-07                False  \n",
              "4   2003-09-09                False  "
            ],
            "text/html": [
              "\n",
              "  <div id=\"df-f5e18fc6-5c13-4e0d-b1b8-a7c458a92beb\" class=\"colab-df-container\">\n",
              "    <div>\n",
              "<style scoped>\n",
              "    .dataframe tbody tr th:only-of-type {\n",
              "        vertical-align: middle;\n",
              "    }\n",
              "\n",
              "    .dataframe tbody tr th {\n",
              "        vertical-align: top;\n",
              "    }\n",
              "\n",
              "    .dataframe thead th {\n",
              "        text-align: right;\n",
              "    }\n",
              "</style>\n",
              "<table border=\"1\" class=\"dataframe\">\n",
              "  <thead>\n",
              "    <tr style=\"text-align: right;\">\n",
              "      <th></th>\n",
              "      <th>title</th>\n",
              "      <th>critic_score</th>\n",
              "      <th>total_sales</th>\n",
              "      <th>genre</th>\n",
              "      <th>release_date</th>\n",
              "      <th>is_game_of_the_year</th>\n",
              "    </tr>\n",
              "  </thead>\n",
              "  <tbody>\n",
              "    <tr>\n",
              "      <th>0</th>\n",
              "      <td>.hack//G.U. Vol.2//Reminisce</td>\n",
              "      <td>6.2</td>\n",
              "      <td>0.23</td>\n",
              "      <td>Role-Playing</td>\n",
              "      <td>2007-05-08</td>\n",
              "      <td>False</td>\n",
              "    </tr>\n",
              "    <tr>\n",
              "      <th>1</th>\n",
              "      <td>.hack//G.U. Vol.3//Redemption</td>\n",
              "      <td>5.7</td>\n",
              "      <td>0.17</td>\n",
              "      <td>Role-Playing</td>\n",
              "      <td>2007-09-10</td>\n",
              "      <td>False</td>\n",
              "    </tr>\n",
              "    <tr>\n",
              "      <th>2</th>\n",
              "      <td>.hack//Infection Part 1</td>\n",
              "      <td>7.7</td>\n",
              "      <td>1.27</td>\n",
              "      <td>Role-Playing</td>\n",
              "      <td>2003-02-11</td>\n",
              "      <td>False</td>\n",
              "    </tr>\n",
              "    <tr>\n",
              "      <th>3</th>\n",
              "      <td>.hack//Mutation Part 2</td>\n",
              "      <td>7.5</td>\n",
              "      <td>0.68</td>\n",
              "      <td>Role-Playing</td>\n",
              "      <td>2003-05-07</td>\n",
              "      <td>False</td>\n",
              "    </tr>\n",
              "    <tr>\n",
              "      <th>4</th>\n",
              "      <td>.hack//Outbreak Part 3</td>\n",
              "      <td>7.1</td>\n",
              "      <td>0.46</td>\n",
              "      <td>Role-Playing</td>\n",
              "      <td>2003-09-09</td>\n",
              "      <td>False</td>\n",
              "    </tr>\n",
              "  </tbody>\n",
              "</table>\n",
              "</div>\n",
              "    <div class=\"colab-df-buttons\">\n",
              "\n",
              "  <div class=\"colab-df-container\">\n",
              "    <button class=\"colab-df-convert\" onclick=\"convertToInteractive('df-f5e18fc6-5c13-4e0d-b1b8-a7c458a92beb')\"\n",
              "            title=\"Convert this dataframe to an interactive table.\"\n",
              "            style=\"display:none;\">\n",
              "\n",
              "  <svg xmlns=\"http://www.w3.org/2000/svg\" height=\"24px\" viewBox=\"0 -960 960 960\">\n",
              "    <path d=\"M120-120v-720h720v720H120Zm60-500h600v-160H180v160Zm220 220h160v-160H400v160Zm0 220h160v-160H400v160ZM180-400h160v-160H180v160Zm440 0h160v-160H620v160ZM180-180h160v-160H180v160Zm440 0h160v-160H620v160Z\"/>\n",
              "  </svg>\n",
              "    </button>\n",
              "\n",
              "  <style>\n",
              "    .colab-df-container {\n",
              "      display:flex;\n",
              "      gap: 12px;\n",
              "    }\n",
              "\n",
              "    .colab-df-convert {\n",
              "      background-color: #E8F0FE;\n",
              "      border: none;\n",
              "      border-radius: 50%;\n",
              "      cursor: pointer;\n",
              "      display: none;\n",
              "      fill: #1967D2;\n",
              "      height: 32px;\n",
              "      padding: 0 0 0 0;\n",
              "      width: 32px;\n",
              "    }\n",
              "\n",
              "    .colab-df-convert:hover {\n",
              "      background-color: #E2EBFA;\n",
              "      box-shadow: 0px 1px 2px rgba(60, 64, 67, 0.3), 0px 1px 3px 1px rgba(60, 64, 67, 0.15);\n",
              "      fill: #174EA6;\n",
              "    }\n",
              "\n",
              "    .colab-df-buttons div {\n",
              "      margin-bottom: 4px;\n",
              "    }\n",
              "\n",
              "    [theme=dark] .colab-df-convert {\n",
              "      background-color: #3B4455;\n",
              "      fill: #D2E3FC;\n",
              "    }\n",
              "\n",
              "    [theme=dark] .colab-df-convert:hover {\n",
              "      background-color: #434B5C;\n",
              "      box-shadow: 0px 1px 3px 1px rgba(0, 0, 0, 0.15);\n",
              "      filter: drop-shadow(0px 1px 2px rgba(0, 0, 0, 0.3));\n",
              "      fill: #FFFFFF;\n",
              "    }\n",
              "  </style>\n",
              "\n",
              "    <script>\n",
              "      const buttonEl =\n",
              "        document.querySelector('#df-f5e18fc6-5c13-4e0d-b1b8-a7c458a92beb button.colab-df-convert');\n",
              "      buttonEl.style.display =\n",
              "        google.colab.kernel.accessAllowed ? 'block' : 'none';\n",
              "\n",
              "      async function convertToInteractive(key) {\n",
              "        const element = document.querySelector('#df-f5e18fc6-5c13-4e0d-b1b8-a7c458a92beb');\n",
              "        const dataTable =\n",
              "          await google.colab.kernel.invokeFunction('convertToInteractive',\n",
              "                                                    [key], {});\n",
              "        if (!dataTable) return;\n",
              "\n",
              "        const docLinkHtml = 'Like what you see? Visit the ' +\n",
              "          '<a target=\"_blank\" href=https://colab.research.google.com/notebooks/data_table.ipynb>data table notebook</a>'\n",
              "          + ' to learn more about interactive tables.';\n",
              "        element.innerHTML = '';\n",
              "        dataTable['output_type'] = 'display_data';\n",
              "        await google.colab.output.renderOutput(dataTable, element);\n",
              "        const docLink = document.createElement('div');\n",
              "        docLink.innerHTML = docLinkHtml;\n",
              "        element.appendChild(docLink);\n",
              "      }\n",
              "    </script>\n",
              "  </div>\n",
              "\n",
              "\n",
              "<div id=\"df-54b6ab42-9a36-4c37-9318-7efc3ea9e3ac\">\n",
              "  <button class=\"colab-df-quickchart\" onclick=\"quickchart('df-54b6ab42-9a36-4c37-9318-7efc3ea9e3ac')\"\n",
              "            title=\"Suggest charts\"\n",
              "            style=\"display:none;\">\n",
              "\n",
              "<svg xmlns=\"http://www.w3.org/2000/svg\" height=\"24px\"viewBox=\"0 0 24 24\"\n",
              "     width=\"24px\">\n",
              "    <g>\n",
              "        <path d=\"M19 3H5c-1.1 0-2 .9-2 2v14c0 1.1.9 2 2 2h14c1.1 0 2-.9 2-2V5c0-1.1-.9-2-2-2zM9 17H7v-7h2v7zm4 0h-2V7h2v10zm4 0h-2v-4h2v4z\"/>\n",
              "    </g>\n",
              "</svg>\n",
              "  </button>\n",
              "\n",
              "<style>\n",
              "  .colab-df-quickchart {\n",
              "      --bg-color: #E8F0FE;\n",
              "      --fill-color: #1967D2;\n",
              "      --hover-bg-color: #E2EBFA;\n",
              "      --hover-fill-color: #174EA6;\n",
              "      --disabled-fill-color: #AAA;\n",
              "      --disabled-bg-color: #DDD;\n",
              "  }\n",
              "\n",
              "  [theme=dark] .colab-df-quickchart {\n",
              "      --bg-color: #3B4455;\n",
              "      --fill-color: #D2E3FC;\n",
              "      --hover-bg-color: #434B5C;\n",
              "      --hover-fill-color: #FFFFFF;\n",
              "      --disabled-bg-color: #3B4455;\n",
              "      --disabled-fill-color: #666;\n",
              "  }\n",
              "\n",
              "  .colab-df-quickchart {\n",
              "    background-color: var(--bg-color);\n",
              "    border: none;\n",
              "    border-radius: 50%;\n",
              "    cursor: pointer;\n",
              "    display: none;\n",
              "    fill: var(--fill-color);\n",
              "    height: 32px;\n",
              "    padding: 0;\n",
              "    width: 32px;\n",
              "  }\n",
              "\n",
              "  .colab-df-quickchart:hover {\n",
              "    background-color: var(--hover-bg-color);\n",
              "    box-shadow: 0 1px 2px rgba(60, 64, 67, 0.3), 0 1px 3px 1px rgba(60, 64, 67, 0.15);\n",
              "    fill: var(--button-hover-fill-color);\n",
              "  }\n",
              "\n",
              "  .colab-df-quickchart-complete:disabled,\n",
              "  .colab-df-quickchart-complete:disabled:hover {\n",
              "    background-color: var(--disabled-bg-color);\n",
              "    fill: var(--disabled-fill-color);\n",
              "    box-shadow: none;\n",
              "  }\n",
              "\n",
              "  .colab-df-spinner {\n",
              "    border: 2px solid var(--fill-color);\n",
              "    border-color: transparent;\n",
              "    border-bottom-color: var(--fill-color);\n",
              "    animation:\n",
              "      spin 1s steps(1) infinite;\n",
              "  }\n",
              "\n",
              "  @keyframes spin {\n",
              "    0% {\n",
              "      border-color: transparent;\n",
              "      border-bottom-color: var(--fill-color);\n",
              "      border-left-color: var(--fill-color);\n",
              "    }\n",
              "    20% {\n",
              "      border-color: transparent;\n",
              "      border-left-color: var(--fill-color);\n",
              "      border-top-color: var(--fill-color);\n",
              "    }\n",
              "    30% {\n",
              "      border-color: transparent;\n",
              "      border-left-color: var(--fill-color);\n",
              "      border-top-color: var(--fill-color);\n",
              "      border-right-color: var(--fill-color);\n",
              "    }\n",
              "    40% {\n",
              "      border-color: transparent;\n",
              "      border-right-color: var(--fill-color);\n",
              "      border-top-color: var(--fill-color);\n",
              "    }\n",
              "    60% {\n",
              "      border-color: transparent;\n",
              "      border-right-color: var(--fill-color);\n",
              "    }\n",
              "    80% {\n",
              "      border-color: transparent;\n",
              "      border-right-color: var(--fill-color);\n",
              "      border-bottom-color: var(--fill-color);\n",
              "    }\n",
              "    90% {\n",
              "      border-color: transparent;\n",
              "      border-bottom-color: var(--fill-color);\n",
              "    }\n",
              "  }\n",
              "</style>\n",
              "\n",
              "  <script>\n",
              "    async function quickchart(key) {\n",
              "      const quickchartButtonEl =\n",
              "        document.querySelector('#' + key + ' button');\n",
              "      quickchartButtonEl.disabled = true;  // To prevent multiple clicks.\n",
              "      quickchartButtonEl.classList.add('colab-df-spinner');\n",
              "      try {\n",
              "        const charts = await google.colab.kernel.invokeFunction(\n",
              "            'suggestCharts', [key], {});\n",
              "      } catch (error) {\n",
              "        console.error('Error during call to suggestCharts:', error);\n",
              "      }\n",
              "      quickchartButtonEl.classList.remove('colab-df-spinner');\n",
              "      quickchartButtonEl.classList.add('colab-df-quickchart-complete');\n",
              "    }\n",
              "    (() => {\n",
              "      let quickchartButtonEl =\n",
              "        document.querySelector('#df-54b6ab42-9a36-4c37-9318-7efc3ea9e3ac button');\n",
              "      quickchartButtonEl.style.display =\n",
              "        google.colab.kernel.accessAllowed ? 'block' : 'none';\n",
              "    })();\n",
              "  </script>\n",
              "</div>\n",
              "\n",
              "    </div>\n",
              "  </div>\n"
            ],
            "application/vnd.google.colaboratory.intrinsic+json": {
              "type": "dataframe",
              "variable_name": "consolidated_data",
              "summary": "{\n  \"name\": \"consolidated_data\",\n  \"rows\": 2873,\n  \"fields\": [\n    {\n      \"column\": \"title\",\n      \"properties\": {\n        \"dtype\": \"string\",\n        \"num_unique_values\": 2873,\n        \"samples\": [\n          \"Digimon Battle Spirit 2\",\n          \"Rogue Warrior\",\n          \"Innocent Life: A Futuristic Harvest Moon\"\n        ],\n        \"semantic_type\": \"\",\n        \"description\": \"\"\n      }\n    },\n    {\n      \"column\": \"critic_score\",\n      \"properties\": {\n        \"dtype\": \"number\",\n        \"std\": 1.4721466386548734,\n        \"min\": 1.0,\n        \"max\": 10.0,\n        \"num_unique_values\": 84,\n        \"samples\": [\n          4.1,\n          6.2,\n          2.4\n        ],\n        \"semantic_type\": \"\",\n        \"description\": \"\"\n      }\n    },\n    {\n      \"column\": \"total_sales\",\n      \"properties\": {\n        \"dtype\": \"number\",\n        \"std\": 2.48881853695882,\n        \"min\": 0.0,\n        \"max\": 48.43,\n        \"num_unique_values\": 538,\n        \"samples\": [\n          2.86,\n          0.36,\n          4.53\n        ],\n        \"semantic_type\": \"\",\n        \"description\": \"\"\n      }\n    },\n    {\n      \"column\": \"genre\",\n      \"properties\": {\n        \"dtype\": \"category\",\n        \"num_unique_values\": 19,\n        \"samples\": [\n          \"Role-Playing\",\n          \"Action\",\n          \"Action-Adventure\"\n        ],\n        \"semantic_type\": \"\",\n        \"description\": \"\"\n      }\n    },\n    {\n      \"column\": \"release_date\",\n      \"properties\": {\n        \"dtype\": \"object\",\n        \"num_unique_values\": 1478,\n        \"samples\": [\n          \"2015-08-04\",\n          \"2008-10-13\",\n          \"2003-05-06\"\n        ],\n        \"semantic_type\": \"\",\n        \"description\": \"\"\n      }\n    },\n    {\n      \"column\": \"is_game_of_the_year\",\n      \"properties\": {\n        \"dtype\": \"boolean\",\n        \"num_unique_values\": 2,\n        \"samples\": [\n          true,\n          false\n        ],\n        \"semantic_type\": \"\",\n        \"description\": \"\"\n      }\n    }\n  ]\n}"
            }
          },
          "metadata": {},
          "execution_count": 10
        }
      ]
    },
    {
      "cell_type": "code",
      "source": [
        "from sklearn.model_selection import train_test_split\n",
        "\n",
        "# Dividir os dados entre treino e teste\n",
        "X = consolidated_data[['critic_score', 'total_sales']]  # Features\n",
        "y = consolidated_data['is_game_of_the_year']  # Target\n",
        "\n",
        "# Dividir os dados em treino e teste\n",
        "X_train, X_test, y_train, y_test = train_test_split(X, y, test_size=0.2, random_state=42)\n"
      ],
      "metadata": {
        "id": "1dTCGKod9VD0"
      },
      "execution_count": 11,
      "outputs": []
    },
    {
      "cell_type": "markdown",
      "source": [
        "## Modelo de Classificação - Random Forest\n",
        "\n",
        "O modelo **Random Forest** foi escolhido por sua capacidade de lidar com variáveis contínuas e categóricas, além de sua robustez contra overfitting. Este modelo também permite interpretar a importância das variáveis, ajudando a entender quais características mais influenciam a classificação.\n",
        "\n",
        "### Primeiro Resultado:\n",
        "O modelo inicial conseguiu identificar jogos que atendem aos critérios mínimos, mas falhou em sugerir jogos que fogem desses pré-requisitos, como outliers de vendas ou notas excepcionais.\n",
        "\n",
        "### Ajuste:\n",
        "Foram realizadas alterações para incluir:\n",
        "- Gêneros mais populares (ex.: *Action*, *Adventure*, *Shooter*).\n",
        "- Filtro por ano de lançamento.\n",
        "- Ajustes nos hiperparâmetros para aumentar a complexidade e capacidade do modelo de capturar padrões mais complexos.\n",
        "\n"
      ],
      "metadata": {
        "id": "m8G670gkAI3D"
      }
    },
    {
      "cell_type": "code",
      "source": [
        "from sklearn.ensemble import RandomForestClassifier\n",
        "\n",
        "# Criar o modelo\n",
        "model = RandomForestClassifier(n_estimators=100, random_state=42)\n",
        "\n",
        "# Treinar o modelo\n",
        "model.fit(X_train, y_train)\n"
      ],
      "metadata": {
        "colab": {
          "base_uri": "https://localhost:8080/",
          "height": 80
        },
        "id": "04zm0JfV9fkU",
        "outputId": "7cdd985e-1e58-4292-a605-4713a729dc63"
      },
      "execution_count": 12,
      "outputs": [
        {
          "output_type": "execute_result",
          "data": {
            "text/plain": [
              "RandomForestClassifier(random_state=42)"
            ],
            "text/html": [
              "<style>#sk-container-id-1 {\n",
              "  /* Definition of color scheme common for light and dark mode */\n",
              "  --sklearn-color-text: black;\n",
              "  --sklearn-color-line: gray;\n",
              "  /* Definition of color scheme for unfitted estimators */\n",
              "  --sklearn-color-unfitted-level-0: #fff5e6;\n",
              "  --sklearn-color-unfitted-level-1: #f6e4d2;\n",
              "  --sklearn-color-unfitted-level-2: #ffe0b3;\n",
              "  --sklearn-color-unfitted-level-3: chocolate;\n",
              "  /* Definition of color scheme for fitted estimators */\n",
              "  --sklearn-color-fitted-level-0: #f0f8ff;\n",
              "  --sklearn-color-fitted-level-1: #d4ebff;\n",
              "  --sklearn-color-fitted-level-2: #b3dbfd;\n",
              "  --sklearn-color-fitted-level-3: cornflowerblue;\n",
              "\n",
              "  /* Specific color for light theme */\n",
              "  --sklearn-color-text-on-default-background: var(--sg-text-color, var(--theme-code-foreground, var(--jp-content-font-color1, black)));\n",
              "  --sklearn-color-background: var(--sg-background-color, var(--theme-background, var(--jp-layout-color0, white)));\n",
              "  --sklearn-color-border-box: var(--sg-text-color, var(--theme-code-foreground, var(--jp-content-font-color1, black)));\n",
              "  --sklearn-color-icon: #696969;\n",
              "\n",
              "  @media (prefers-color-scheme: dark) {\n",
              "    /* Redefinition of color scheme for dark theme */\n",
              "    --sklearn-color-text-on-default-background: var(--sg-text-color, var(--theme-code-foreground, var(--jp-content-font-color1, white)));\n",
              "    --sklearn-color-background: var(--sg-background-color, var(--theme-background, var(--jp-layout-color0, #111)));\n",
              "    --sklearn-color-border-box: var(--sg-text-color, var(--theme-code-foreground, var(--jp-content-font-color1, white)));\n",
              "    --sklearn-color-icon: #878787;\n",
              "  }\n",
              "}\n",
              "\n",
              "#sk-container-id-1 {\n",
              "  color: var(--sklearn-color-text);\n",
              "}\n",
              "\n",
              "#sk-container-id-1 pre {\n",
              "  padding: 0;\n",
              "}\n",
              "\n",
              "#sk-container-id-1 input.sk-hidden--visually {\n",
              "  border: 0;\n",
              "  clip: rect(1px 1px 1px 1px);\n",
              "  clip: rect(1px, 1px, 1px, 1px);\n",
              "  height: 1px;\n",
              "  margin: -1px;\n",
              "  overflow: hidden;\n",
              "  padding: 0;\n",
              "  position: absolute;\n",
              "  width: 1px;\n",
              "}\n",
              "\n",
              "#sk-container-id-1 div.sk-dashed-wrapped {\n",
              "  border: 1px dashed var(--sklearn-color-line);\n",
              "  margin: 0 0.4em 0.5em 0.4em;\n",
              "  box-sizing: border-box;\n",
              "  padding-bottom: 0.4em;\n",
              "  background-color: var(--sklearn-color-background);\n",
              "}\n",
              "\n",
              "#sk-container-id-1 div.sk-container {\n",
              "  /* jupyter's `normalize.less` sets `[hidden] { display: none; }`\n",
              "     but bootstrap.min.css set `[hidden] { display: none !important; }`\n",
              "     so we also need the `!important` here to be able to override the\n",
              "     default hidden behavior on the sphinx rendered scikit-learn.org.\n",
              "     See: https://github.com/scikit-learn/scikit-learn/issues/21755 */\n",
              "  display: inline-block !important;\n",
              "  position: relative;\n",
              "}\n",
              "\n",
              "#sk-container-id-1 div.sk-text-repr-fallback {\n",
              "  display: none;\n",
              "}\n",
              "\n",
              "div.sk-parallel-item,\n",
              "div.sk-serial,\n",
              "div.sk-item {\n",
              "  /* draw centered vertical line to link estimators */\n",
              "  background-image: linear-gradient(var(--sklearn-color-text-on-default-background), var(--sklearn-color-text-on-default-background));\n",
              "  background-size: 2px 100%;\n",
              "  background-repeat: no-repeat;\n",
              "  background-position: center center;\n",
              "}\n",
              "\n",
              "/* Parallel-specific style estimator block */\n",
              "\n",
              "#sk-container-id-1 div.sk-parallel-item::after {\n",
              "  content: \"\";\n",
              "  width: 100%;\n",
              "  border-bottom: 2px solid var(--sklearn-color-text-on-default-background);\n",
              "  flex-grow: 1;\n",
              "}\n",
              "\n",
              "#sk-container-id-1 div.sk-parallel {\n",
              "  display: flex;\n",
              "  align-items: stretch;\n",
              "  justify-content: center;\n",
              "  background-color: var(--sklearn-color-background);\n",
              "  position: relative;\n",
              "}\n",
              "\n",
              "#sk-container-id-1 div.sk-parallel-item {\n",
              "  display: flex;\n",
              "  flex-direction: column;\n",
              "}\n",
              "\n",
              "#sk-container-id-1 div.sk-parallel-item:first-child::after {\n",
              "  align-self: flex-end;\n",
              "  width: 50%;\n",
              "}\n",
              "\n",
              "#sk-container-id-1 div.sk-parallel-item:last-child::after {\n",
              "  align-self: flex-start;\n",
              "  width: 50%;\n",
              "}\n",
              "\n",
              "#sk-container-id-1 div.sk-parallel-item:only-child::after {\n",
              "  width: 0;\n",
              "}\n",
              "\n",
              "/* Serial-specific style estimator block */\n",
              "\n",
              "#sk-container-id-1 div.sk-serial {\n",
              "  display: flex;\n",
              "  flex-direction: column;\n",
              "  align-items: center;\n",
              "  background-color: var(--sklearn-color-background);\n",
              "  padding-right: 1em;\n",
              "  padding-left: 1em;\n",
              "}\n",
              "\n",
              "\n",
              "/* Toggleable style: style used for estimator/Pipeline/ColumnTransformer box that is\n",
              "clickable and can be expanded/collapsed.\n",
              "- Pipeline and ColumnTransformer use this feature and define the default style\n",
              "- Estimators will overwrite some part of the style using the `sk-estimator` class\n",
              "*/\n",
              "\n",
              "/* Pipeline and ColumnTransformer style (default) */\n",
              "\n",
              "#sk-container-id-1 div.sk-toggleable {\n",
              "  /* Default theme specific background. It is overwritten whether we have a\n",
              "  specific estimator or a Pipeline/ColumnTransformer */\n",
              "  background-color: var(--sklearn-color-background);\n",
              "}\n",
              "\n",
              "/* Toggleable label */\n",
              "#sk-container-id-1 label.sk-toggleable__label {\n",
              "  cursor: pointer;\n",
              "  display: block;\n",
              "  width: 100%;\n",
              "  margin-bottom: 0;\n",
              "  padding: 0.5em;\n",
              "  box-sizing: border-box;\n",
              "  text-align: center;\n",
              "}\n",
              "\n",
              "#sk-container-id-1 label.sk-toggleable__label-arrow:before {\n",
              "  /* Arrow on the left of the label */\n",
              "  content: \"▸\";\n",
              "  float: left;\n",
              "  margin-right: 0.25em;\n",
              "  color: var(--sklearn-color-icon);\n",
              "}\n",
              "\n",
              "#sk-container-id-1 label.sk-toggleable__label-arrow:hover:before {\n",
              "  color: var(--sklearn-color-text);\n",
              "}\n",
              "\n",
              "/* Toggleable content - dropdown */\n",
              "\n",
              "#sk-container-id-1 div.sk-toggleable__content {\n",
              "  max-height: 0;\n",
              "  max-width: 0;\n",
              "  overflow: hidden;\n",
              "  text-align: left;\n",
              "  /* unfitted */\n",
              "  background-color: var(--sklearn-color-unfitted-level-0);\n",
              "}\n",
              "\n",
              "#sk-container-id-1 div.sk-toggleable__content.fitted {\n",
              "  /* fitted */\n",
              "  background-color: var(--sklearn-color-fitted-level-0);\n",
              "}\n",
              "\n",
              "#sk-container-id-1 div.sk-toggleable__content pre {\n",
              "  margin: 0.2em;\n",
              "  border-radius: 0.25em;\n",
              "  color: var(--sklearn-color-text);\n",
              "  /* unfitted */\n",
              "  background-color: var(--sklearn-color-unfitted-level-0);\n",
              "}\n",
              "\n",
              "#sk-container-id-1 div.sk-toggleable__content.fitted pre {\n",
              "  /* unfitted */\n",
              "  background-color: var(--sklearn-color-fitted-level-0);\n",
              "}\n",
              "\n",
              "#sk-container-id-1 input.sk-toggleable__control:checked~div.sk-toggleable__content {\n",
              "  /* Expand drop-down */\n",
              "  max-height: 200px;\n",
              "  max-width: 100%;\n",
              "  overflow: auto;\n",
              "}\n",
              "\n",
              "#sk-container-id-1 input.sk-toggleable__control:checked~label.sk-toggleable__label-arrow:before {\n",
              "  content: \"▾\";\n",
              "}\n",
              "\n",
              "/* Pipeline/ColumnTransformer-specific style */\n",
              "\n",
              "#sk-container-id-1 div.sk-label input.sk-toggleable__control:checked~label.sk-toggleable__label {\n",
              "  color: var(--sklearn-color-text);\n",
              "  background-color: var(--sklearn-color-unfitted-level-2);\n",
              "}\n",
              "\n",
              "#sk-container-id-1 div.sk-label.fitted input.sk-toggleable__control:checked~label.sk-toggleable__label {\n",
              "  background-color: var(--sklearn-color-fitted-level-2);\n",
              "}\n",
              "\n",
              "/* Estimator-specific style */\n",
              "\n",
              "/* Colorize estimator box */\n",
              "#sk-container-id-1 div.sk-estimator input.sk-toggleable__control:checked~label.sk-toggleable__label {\n",
              "  /* unfitted */\n",
              "  background-color: var(--sklearn-color-unfitted-level-2);\n",
              "}\n",
              "\n",
              "#sk-container-id-1 div.sk-estimator.fitted input.sk-toggleable__control:checked~label.sk-toggleable__label {\n",
              "  /* fitted */\n",
              "  background-color: var(--sklearn-color-fitted-level-2);\n",
              "}\n",
              "\n",
              "#sk-container-id-1 div.sk-label label.sk-toggleable__label,\n",
              "#sk-container-id-1 div.sk-label label {\n",
              "  /* The background is the default theme color */\n",
              "  color: var(--sklearn-color-text-on-default-background);\n",
              "}\n",
              "\n",
              "/* On hover, darken the color of the background */\n",
              "#sk-container-id-1 div.sk-label:hover label.sk-toggleable__label {\n",
              "  color: var(--sklearn-color-text);\n",
              "  background-color: var(--sklearn-color-unfitted-level-2);\n",
              "}\n",
              "\n",
              "/* Label box, darken color on hover, fitted */\n",
              "#sk-container-id-1 div.sk-label.fitted:hover label.sk-toggleable__label.fitted {\n",
              "  color: var(--sklearn-color-text);\n",
              "  background-color: var(--sklearn-color-fitted-level-2);\n",
              "}\n",
              "\n",
              "/* Estimator label */\n",
              "\n",
              "#sk-container-id-1 div.sk-label label {\n",
              "  font-family: monospace;\n",
              "  font-weight: bold;\n",
              "  display: inline-block;\n",
              "  line-height: 1.2em;\n",
              "}\n",
              "\n",
              "#sk-container-id-1 div.sk-label-container {\n",
              "  text-align: center;\n",
              "}\n",
              "\n",
              "/* Estimator-specific */\n",
              "#sk-container-id-1 div.sk-estimator {\n",
              "  font-family: monospace;\n",
              "  border: 1px dotted var(--sklearn-color-border-box);\n",
              "  border-radius: 0.25em;\n",
              "  box-sizing: border-box;\n",
              "  margin-bottom: 0.5em;\n",
              "  /* unfitted */\n",
              "  background-color: var(--sklearn-color-unfitted-level-0);\n",
              "}\n",
              "\n",
              "#sk-container-id-1 div.sk-estimator.fitted {\n",
              "  /* fitted */\n",
              "  background-color: var(--sklearn-color-fitted-level-0);\n",
              "}\n",
              "\n",
              "/* on hover */\n",
              "#sk-container-id-1 div.sk-estimator:hover {\n",
              "  /* unfitted */\n",
              "  background-color: var(--sklearn-color-unfitted-level-2);\n",
              "}\n",
              "\n",
              "#sk-container-id-1 div.sk-estimator.fitted:hover {\n",
              "  /* fitted */\n",
              "  background-color: var(--sklearn-color-fitted-level-2);\n",
              "}\n",
              "\n",
              "/* Specification for estimator info (e.g. \"i\" and \"?\") */\n",
              "\n",
              "/* Common style for \"i\" and \"?\" */\n",
              "\n",
              ".sk-estimator-doc-link,\n",
              "a:link.sk-estimator-doc-link,\n",
              "a:visited.sk-estimator-doc-link {\n",
              "  float: right;\n",
              "  font-size: smaller;\n",
              "  line-height: 1em;\n",
              "  font-family: monospace;\n",
              "  background-color: var(--sklearn-color-background);\n",
              "  border-radius: 1em;\n",
              "  height: 1em;\n",
              "  width: 1em;\n",
              "  text-decoration: none !important;\n",
              "  margin-left: 1ex;\n",
              "  /* unfitted */\n",
              "  border: var(--sklearn-color-unfitted-level-1) 1pt solid;\n",
              "  color: var(--sklearn-color-unfitted-level-1);\n",
              "}\n",
              "\n",
              ".sk-estimator-doc-link.fitted,\n",
              "a:link.sk-estimator-doc-link.fitted,\n",
              "a:visited.sk-estimator-doc-link.fitted {\n",
              "  /* fitted */\n",
              "  border: var(--sklearn-color-fitted-level-1) 1pt solid;\n",
              "  color: var(--sklearn-color-fitted-level-1);\n",
              "}\n",
              "\n",
              "/* On hover */\n",
              "div.sk-estimator:hover .sk-estimator-doc-link:hover,\n",
              ".sk-estimator-doc-link:hover,\n",
              "div.sk-label-container:hover .sk-estimator-doc-link:hover,\n",
              ".sk-estimator-doc-link:hover {\n",
              "  /* unfitted */\n",
              "  background-color: var(--sklearn-color-unfitted-level-3);\n",
              "  color: var(--sklearn-color-background);\n",
              "  text-decoration: none;\n",
              "}\n",
              "\n",
              "div.sk-estimator.fitted:hover .sk-estimator-doc-link.fitted:hover,\n",
              ".sk-estimator-doc-link.fitted:hover,\n",
              "div.sk-label-container:hover .sk-estimator-doc-link.fitted:hover,\n",
              ".sk-estimator-doc-link.fitted:hover {\n",
              "  /* fitted */\n",
              "  background-color: var(--sklearn-color-fitted-level-3);\n",
              "  color: var(--sklearn-color-background);\n",
              "  text-decoration: none;\n",
              "}\n",
              "\n",
              "/* Span, style for the box shown on hovering the info icon */\n",
              ".sk-estimator-doc-link span {\n",
              "  display: none;\n",
              "  z-index: 9999;\n",
              "  position: relative;\n",
              "  font-weight: normal;\n",
              "  right: .2ex;\n",
              "  padding: .5ex;\n",
              "  margin: .5ex;\n",
              "  width: min-content;\n",
              "  min-width: 20ex;\n",
              "  max-width: 50ex;\n",
              "  color: var(--sklearn-color-text);\n",
              "  box-shadow: 2pt 2pt 4pt #999;\n",
              "  /* unfitted */\n",
              "  background: var(--sklearn-color-unfitted-level-0);\n",
              "  border: .5pt solid var(--sklearn-color-unfitted-level-3);\n",
              "}\n",
              "\n",
              ".sk-estimator-doc-link.fitted span {\n",
              "  /* fitted */\n",
              "  background: var(--sklearn-color-fitted-level-0);\n",
              "  border: var(--sklearn-color-fitted-level-3);\n",
              "}\n",
              "\n",
              ".sk-estimator-doc-link:hover span {\n",
              "  display: block;\n",
              "}\n",
              "\n",
              "/* \"?\"-specific style due to the `<a>` HTML tag */\n",
              "\n",
              "#sk-container-id-1 a.estimator_doc_link {\n",
              "  float: right;\n",
              "  font-size: 1rem;\n",
              "  line-height: 1em;\n",
              "  font-family: monospace;\n",
              "  background-color: var(--sklearn-color-background);\n",
              "  border-radius: 1rem;\n",
              "  height: 1rem;\n",
              "  width: 1rem;\n",
              "  text-decoration: none;\n",
              "  /* unfitted */\n",
              "  color: var(--sklearn-color-unfitted-level-1);\n",
              "  border: var(--sklearn-color-unfitted-level-1) 1pt solid;\n",
              "}\n",
              "\n",
              "#sk-container-id-1 a.estimator_doc_link.fitted {\n",
              "  /* fitted */\n",
              "  border: var(--sklearn-color-fitted-level-1) 1pt solid;\n",
              "  color: var(--sklearn-color-fitted-level-1);\n",
              "}\n",
              "\n",
              "/* On hover */\n",
              "#sk-container-id-1 a.estimator_doc_link:hover {\n",
              "  /* unfitted */\n",
              "  background-color: var(--sklearn-color-unfitted-level-3);\n",
              "  color: var(--sklearn-color-background);\n",
              "  text-decoration: none;\n",
              "}\n",
              "\n",
              "#sk-container-id-1 a.estimator_doc_link.fitted:hover {\n",
              "  /* fitted */\n",
              "  background-color: var(--sklearn-color-fitted-level-3);\n",
              "}\n",
              "</style><div id=\"sk-container-id-1\" class=\"sk-top-container\"><div class=\"sk-text-repr-fallback\"><pre>RandomForestClassifier(random_state=42)</pre><b>In a Jupyter environment, please rerun this cell to show the HTML representation or trust the notebook. <br />On GitHub, the HTML representation is unable to render, please try loading this page with nbviewer.org.</b></div><div class=\"sk-container\" hidden><div class=\"sk-item\"><div class=\"sk-estimator fitted sk-toggleable\"><input class=\"sk-toggleable__control sk-hidden--visually\" id=\"sk-estimator-id-1\" type=\"checkbox\" checked><label for=\"sk-estimator-id-1\" class=\"sk-toggleable__label fitted sk-toggleable__label-arrow fitted\">&nbsp;&nbsp;RandomForestClassifier<a class=\"sk-estimator-doc-link fitted\" rel=\"noreferrer\" target=\"_blank\" href=\"https://scikit-learn.org/1.5/modules/generated/sklearn.ensemble.RandomForestClassifier.html\">?<span>Documentation for RandomForestClassifier</span></a><span class=\"sk-estimator-doc-link fitted\">i<span>Fitted</span></span></label><div class=\"sk-toggleable__content fitted\"><pre>RandomForestClassifier(random_state=42)</pre></div> </div></div></div></div>"
            ]
          },
          "metadata": {},
          "execution_count": 12
        }
      ]
    },
    {
      "cell_type": "code",
      "source": [
        "from sklearn.metrics import accuracy_score, classification_report\n",
        "\n",
        "# Fazer previsões com o conjunto de teste\n",
        "y_pred = model.predict(X_test)\n",
        "\n",
        "# Calcular a acurácia\n",
        "accuracy = accuracy_score(y_test, y_pred)\n",
        "print(f'Acurácia: {accuracy}')\n",
        "\n",
        "# Relatório de classificação\n",
        "print(classification_report(y_test, y_pred))\n"
      ],
      "metadata": {
        "colab": {
          "base_uri": "https://localhost:8080/"
        },
        "id": "g5vuF2Cg9pct",
        "outputId": "c9bd20c3-7dcf-4c29-d9d1-72179cc88e30"
      },
      "execution_count": 13,
      "outputs": [
        {
          "output_type": "stream",
          "name": "stdout",
          "text": [
            "Acurácia: 1.0\n",
            "              precision    recall  f1-score   support\n",
            "\n",
            "       False       1.00      1.00      1.00       565\n",
            "        True       1.00      1.00      1.00        10\n",
            "\n",
            "    accuracy                           1.00       575\n",
            "   macro avg       1.00      1.00      1.00       575\n",
            "weighted avg       1.00      1.00      1.00       575\n",
            "\n"
          ]
        }
      ]
    },
    {
      "cell_type": "code",
      "source": [
        "# Converter a coluna 'release_date' para o formato datetime\n",
        "consolidated_data['release_date'] = pd.to_datetime(consolidated_data['release_date'], errors='coerce')\n",
        "\n",
        "# Extrair o ano da data e criar uma nova coluna 'release_year'\n",
        "consolidated_data['release_year'] = consolidated_data['release_date'].dt.year\n",
        "\n",
        "# Exibir as primeiras linhas para verificar\n",
        "print(consolidated_data[['release_date', 'release_year']].head())\n"
      ],
      "metadata": {
        "colab": {
          "base_uri": "https://localhost:8080/"
        },
        "id": "8qnrLzdcALiW",
        "outputId": "a3a7d34b-06e9-4e1d-84e4-d476626b41b1"
      },
      "execution_count": 14,
      "outputs": [
        {
          "output_type": "stream",
          "name": "stdout",
          "text": [
            "  release_date  release_year\n",
            "0   2007-05-08          2007\n",
            "1   2007-09-10          2007\n",
            "2   2003-02-11          2003\n",
            "3   2003-05-07          2003\n",
            "4   2003-09-09          2003\n"
          ]
        }
      ]
    },
    {
      "cell_type": "code",
      "source": [
        "# Exibir todos os valores únicos da coluna 'genre' para poder saber quais genêros estavam contidos no dataset e como foram descritos\n",
        "unique_genres = consolidated_data['genre'].unique()\n",
        "\n",
        "# Mostrar os resultados\n",
        "print(unique_genres)\n"
      ],
      "metadata": {
        "colab": {
          "base_uri": "https://localhost:8080/"
        },
        "id": "oREsBl0jAXBl",
        "outputId": "6ff67eef-381f-4c3e-99ed-47920e66dd26"
      },
      "execution_count": 15,
      "outputs": [
        {
          "output_type": "stream",
          "name": "stdout",
          "text": [
            "['Role-Playing' 'Shooter' 'Racing' 'Misc' 'Sports' 'Action' 'Puzzle'\n",
            " 'Platform' 'Adventure' 'Strategy' 'Simulation' 'Action-Adventure'\n",
            " 'Fighting' 'Party' 'MMO' 'Music' 'Board Game' 'Education' 'Visual Novel']\n"
          ]
        }
      ]
    },
    {
      "cell_type": "markdown",
      "source": [
        "Hora de tentar novamente, adicionei novas váriaveis, além de pedir que ele só me trouxesse resultado de algum ano específico, também pedi que ele olhasse para os jogos que estavam dentre os genêros que geralmente ganhavam o prêmio por serem mais populares. No histórico apenas uma vez um jogo fora destes generos foi o vencedor"
      ],
      "metadata": {
        "id": "310eFIkb79qg"
      }
    },
    {
      "cell_type": "markdown",
      "source": [
        "## Resultados e Análise\n",
        "\n",
        "Após os ajustes no modelo:\n",
        "- O modelo conseguiu classificar jogos que atendem aos critérios mínimos como \"Jogo do Ano\".\n",
        "- Jogos que fogem aos critérios, mas apresentam características excepcionais (ex.: vendas muito altas ou notas muito baixas), ainda não foram corretamente identificados.\n",
        "- A análise da importância das variáveis revelou que:\n",
        "  - **Nota dos Críticos (`critic_score`)** é a principal variável que influencia as decisões.\n",
        "  - **Vendas Totais (`total_sales`)** também desempenham um papel crucial, principalmente em jogos populares com grande público.\n",
        "\n"
      ],
      "metadata": {
        "id": "O5g1XrMl8UJa"
      }
    },
    {
      "cell_type": "code",
      "source": [
        "import pandas as pd\n",
        "from sklearn.model_selection import train_test_split\n",
        "from sklearn.ensemble import RandomForestClassifier\n",
        "from sklearn.metrics import accuracy_score, classification_report\n",
        "\n",
        "# Suponha que os dados já estão carregados em 'consolidated_data'\n",
        "\n",
        "# Criando a variável 'is_game_of_the_year' com mais condições\n",
        "consolidated_data['is_game_of_the_year_2'] = (\n",
        "    (consolidated_data['critic_score'] >= 8.0) &\n",
        "    (consolidated_data['total_sales'] >= 10) &\n",
        "    (consolidated_data['genre'].isin(['Action', 'Adventure', 'Action-Adventure','Role-Playing', 'Shooter'])) &\n",
        "    (consolidated_data['release_date'].dt.year == 2011)\n",
        ")\n",
        "\n",
        "# Exibindo os dados com a nova coluna\n",
        "print(consolidated_data.head())\n",
        "\n",
        "# Dividir os dados entre treino e teste\n",
        "X = consolidated_data[['critic_score', 'total_sales']]  # Features\n",
        "y = consolidated_data['is_game_of_the_year_2']  # Target\n",
        "\n",
        "# Dividir os dados em treino e teste\n",
        "X_train, X_test, y_train, y_test = train_test_split(X, y, test_size=0.3, random_state=42)\n",
        "\n",
        "# Criar o modelo (Random Forest com ajuste de hiperparâmetros)\n",
        "model = RandomForestClassifier(n_estimators=100, max_depth=10, min_samples_split=5, random_state=42)\n",
        "\n",
        "# Treinar o modelo\n",
        "model.fit(X_train, y_train)\n",
        "\n",
        "# Fazer previsões com o conjunto de teste\n",
        "y_pred = model.predict(X_test)\n",
        "\n",
        "# Calcular a acurácia\n",
        "accuracy = accuracy_score(y_test, y_pred)\n",
        "print(f'Acurácia: {accuracy}')\n",
        "\n",
        "# Relatório de classificação\n",
        "print(classification_report(y_test, y_pred))\n",
        "\n",
        "# Analisando a importância das features\n",
        "importances = model.feature_importances_\n",
        "print(\"Importância das features:\", importances)"
      ],
      "metadata": {
        "colab": {
          "base_uri": "https://localhost:8080/"
        },
        "id": "8ojuobJFBHdV",
        "outputId": "92e1b9a6-2bca-4527-89db-747dc9d32d9c"
      },
      "execution_count": 16,
      "outputs": [
        {
          "output_type": "stream",
          "name": "stdout",
          "text": [
            "                           title  critic_score  total_sales         genre  \\\n",
            "0   .hack//G.U. Vol.2//Reminisce           6.2         0.23  Role-Playing   \n",
            "1  .hack//G.U. Vol.3//Redemption           5.7         0.17  Role-Playing   \n",
            "2        .hack//Infection Part 1           7.7         1.27  Role-Playing   \n",
            "3         .hack//Mutation Part 2           7.5         0.68  Role-Playing   \n",
            "4         .hack//Outbreak Part 3           7.1         0.46  Role-Playing   \n",
            "\n",
            "  release_date  is_game_of_the_year  release_year  is_game_of_the_year_2  \n",
            "0   2007-05-08                False          2007                  False  \n",
            "1   2007-09-10                False          2007                  False  \n",
            "2   2003-02-11                False          2003                  False  \n",
            "3   2003-05-07                False          2003                  False  \n",
            "4   2003-09-09                False          2003                  False  \n",
            "Acurácia: 0.9976798143851509\n",
            "              precision    recall  f1-score   support\n",
            "\n",
            "       False       1.00      1.00      1.00       860\n",
            "        True       0.00      0.00      0.00         2\n",
            "\n",
            "    accuracy                           1.00       862\n",
            "   macro avg       0.50      0.50      0.50       862\n",
            "weighted avg       1.00      1.00      1.00       862\n",
            "\n",
            "Importância das features: [0.1949161 0.8050839]\n"
          ]
        },
        {
          "output_type": "stream",
          "name": "stderr",
          "text": [
            "/usr/local/lib/python3.10/dist-packages/sklearn/metrics/_classification.py:1531: UndefinedMetricWarning: Precision is ill-defined and being set to 0.0 in labels with no predicted samples. Use `zero_division` parameter to control this behavior.\n",
            "  _warn_prf(average, modifier, f\"{metric.capitalize()} is\", len(result))\n",
            "/usr/local/lib/python3.10/dist-packages/sklearn/metrics/_classification.py:1531: UndefinedMetricWarning: Precision is ill-defined and being set to 0.0 in labels with no predicted samples. Use `zero_division` parameter to control this behavior.\n",
            "  _warn_prf(average, modifier, f\"{metric.capitalize()} is\", len(result))\n",
            "/usr/local/lib/python3.10/dist-packages/sklearn/metrics/_classification.py:1531: UndefinedMetricWarning: Precision is ill-defined and being set to 0.0 in labels with no predicted samples. Use `zero_division` parameter to control this behavior.\n",
            "  _warn_prf(average, modifier, f\"{metric.capitalize()} is\", len(result))\n"
          ]
        }
      ]
    },
    {
      "cell_type": "code",
      "source": [
        "# Filtrar os jogos que são 'Jogo do Ano' (onde a coluna is_game_of_the_year é True)\n",
        "games_of_the_year = consolidated_data[consolidated_data['is_game_of_the_year_2'] == True]\n",
        "\n",
        "# Mostrar as primeiras 5 linhas dos jogos do ano\n",
        "print(games_of_the_year)\n"
      ],
      "metadata": {
        "colab": {
          "base_uri": "https://localhost:8080/"
        },
        "id": "X3hiIY2DBSQC",
        "outputId": "43a97caa-84c2-4ceb-82da-596e77e41ecc"
      },
      "execution_count": 17,
      "outputs": [
        {
          "output_type": "stream",
          "name": "stdout",
          "text": [
            "                               title  critic_score  total_sales         genre  \\\n",
            "244              Batman: Arkham City           9.6        10.29        Action   \n",
            "260                    Battlefield 3           8.9        17.32       Shooter   \n",
            "439   Call of Duty: Modern Warfare 3           8.8        30.71       Shooter   \n",
            "2001             Red Dead Redemption           9.5        13.07        Action   \n",
            "2443     The Elder Scrolls V: Skyrim           9.3        20.51  Role-Playing   \n",
            "\n",
            "     release_date  is_game_of_the_year  release_year  is_game_of_the_year_2  \n",
            "244    2011-10-18                 True          2011                   True  \n",
            "260    2011-10-25                 True          2011                   True  \n",
            "439    2011-11-08                 True          2011                   True  \n",
            "2001   2011-10-11                 True          2011                   True  \n",
            "2443   2011-11-11                 True          2011                   True  \n"
          ]
        }
      ]
    },
    {
      "cell_type": "code",
      "source": [
        "# Filtrar os jogos que são \"False\" na coluna 'is_game_of_the_year'\n",
        "false_games = consolidated_data[consolidated_data['is_game_of_the_year_2'] == False]\n",
        "\n",
        "# Procurar por um jogo com parte do nome, substitua 'parte_do_nome' pela palavra-chave que você lembra\n",
        "keyword = 'Portal'  # Substitua com parte do nome ou uma palavra-chave\n",
        "specific_game = false_games[false_games['title'].str.contains(keyword, case=False, na=False)]\n",
        "\n",
        "# Mostrar os jogos encontrados\n",
        "print(specific_game[['title', 'is_game_of_the_year_2']])\n"
      ],
      "metadata": {
        "colab": {
          "base_uri": "https://localhost:8080/"
        },
        "id": "BgxpgAeiBXup",
        "outputId": "17df6aa0-f751-4575-c395-0dd76e06458d"
      },
      "execution_count": 18,
      "outputs": [
        {
          "output_type": "stream",
          "name": "stdout",
          "text": [
            "                               title  is_game_of_the_year_2\n",
            "1914                        Portal 2                  False\n",
            "1915                   Portal Runner                  False\n",
            "2253  Spectrobes: Beyond the Portals                  False\n"
          ]
        }
      ]
    },
    {
      "cell_type": "code",
      "source": [
        "# Selecionar jogos fora dos pré-requisitos iniciais\n",
        "other_data = consolidated_data[\n",
        "    ~((consolidated_data['critic_score'] >= 8.0) &\n",
        "      (consolidated_data['total_sales'] >= 10))\n",
        "]\n",
        "\n",
        "# Transformar as variáveis categóricas para prever os padrões aprendidos\n",
        "X_other = pd.get_dummies(other_data[['critic_score', 'total_sales', 'genre']],\n",
        "                         columns=['genre'])\n",
        "\n",
        "# Garantir que as colunas batem com o modelo\n",
        "X_other = X_other.reindex(columns=X.columns, fill_value=0)\n",
        "\n",
        "# Fazer previsões\n",
        "other_data['suggested'] = model.predict(X_other)\n",
        "\n",
        "# Visualizar jogos sugeridos\n",
        "suggested_games = other_data[other_data['suggested'] == True]\n",
        "print(suggested_games)\n"
      ],
      "metadata": {
        "colab": {
          "base_uri": "https://localhost:8080/"
        },
        "id": "wJp3vUMKV4xr",
        "outputId": "9edbaca4-620a-42fb-f8d0-f8665f2c1af5"
      },
      "execution_count": 19,
      "outputs": [
        {
          "output_type": "stream",
          "name": "stdout",
          "text": [
            "Empty DataFrame\n",
            "Columns: [title, critic_score, total_sales, genre, release_date, is_game_of_the_year, release_year, is_game_of_the_year_2, suggested]\n",
            "Index: []\n"
          ]
        },
        {
          "output_type": "stream",
          "name": "stderr",
          "text": [
            "<ipython-input-19-8a35edf74efe>:15: SettingWithCopyWarning: \n",
            "A value is trying to be set on a copy of a slice from a DataFrame.\n",
            "Try using .loc[row_indexer,col_indexer] = value instead\n",
            "\n",
            "See the caveats in the documentation: https://pandas.pydata.org/pandas-docs/stable/user_guide/indexing.html#returning-a-view-versus-a-copy\n",
            "  other_data['suggested'] = model.predict(X_other)\n"
          ]
        }
      ]
    },
    {
      "cell_type": "code",
      "source": [
        "# Exemplo de análise dos jogos sugeridos\n",
        "suggested_games.groupby('genre')['total_sales'].mean()\n"
      ],
      "metadata": {
        "colab": {
          "base_uri": "https://localhost:8080/",
          "height": 115
        },
        "id": "R44XOCKSZHGa",
        "outputId": "0be5becd-65c6-4fef-f715-e80be9156eb0"
      },
      "execution_count": 20,
      "outputs": [
        {
          "output_type": "execute_result",
          "data": {
            "text/plain": [
              "Series([], Name: total_sales, dtype: float64)"
            ],
            "text/html": [
              "<div>\n",
              "<style scoped>\n",
              "    .dataframe tbody tr th:only-of-type {\n",
              "        vertical-align: middle;\n",
              "    }\n",
              "\n",
              "    .dataframe tbody tr th {\n",
              "        vertical-align: top;\n",
              "    }\n",
              "\n",
              "    .dataframe thead th {\n",
              "        text-align: right;\n",
              "    }\n",
              "</style>\n",
              "<table border=\"1\" class=\"dataframe\">\n",
              "  <thead>\n",
              "    <tr style=\"text-align: right;\">\n",
              "      <th></th>\n",
              "      <th>total_sales</th>\n",
              "    </tr>\n",
              "    <tr>\n",
              "      <th>genre</th>\n",
              "      <th></th>\n",
              "    </tr>\n",
              "  </thead>\n",
              "  <tbody>\n",
              "  </tbody>\n",
              "</table>\n",
              "</div><br><label><b>dtype:</b> float64</label>"
            ]
          },
          "metadata": {},
          "execution_count": 20
        }
      ]
    },
    {
      "cell_type": "code",
      "source": [
        "# Verificar o tamanho do subset\n",
        "print(f\"Número de linhas em other_data: {len(other_data)}\")\n",
        "\n",
        "# Verificar os dados filtrados\n",
        "print(other_data.head())\n"
      ],
      "metadata": {
        "colab": {
          "base_uri": "https://localhost:8080/"
        },
        "id": "GIF058rVYpSa",
        "outputId": "71f1056d-1b26-4551-a515-563c37f03342"
      },
      "execution_count": 21,
      "outputs": [
        {
          "output_type": "stream",
          "name": "stdout",
          "text": [
            "Número de linhas em other_data: 2837\n",
            "                           title  critic_score  total_sales         genre  \\\n",
            "0   .hack//G.U. Vol.2//Reminisce           6.2         0.23  Role-Playing   \n",
            "1  .hack//G.U. Vol.3//Redemption           5.7         0.17  Role-Playing   \n",
            "2        .hack//Infection Part 1           7.7         1.27  Role-Playing   \n",
            "3         .hack//Mutation Part 2           7.5         0.68  Role-Playing   \n",
            "4         .hack//Outbreak Part 3           7.1         0.46  Role-Playing   \n",
            "\n",
            "  release_date  is_game_of_the_year  release_year  is_game_of_the_year_2  \\\n",
            "0   2007-05-08                False          2007                  False   \n",
            "1   2007-09-10                False          2007                  False   \n",
            "2   2003-02-11                False          2003                  False   \n",
            "3   2003-05-07                False          2003                  False   \n",
            "4   2003-09-09                False          2003                  False   \n",
            "\n",
            "   suggested  \n",
            "0      False  \n",
            "1      False  \n",
            "2      False  \n",
            "3      False  \n",
            "4      False  \n"
          ]
        }
      ]
    },
    {
      "cell_type": "code",
      "source": [
        "other_data.loc[:, 'suggested'] = model.predict(X_other)\n"
      ],
      "metadata": {
        "id": "IpaIPO7SY7ZP"
      },
      "execution_count": 22,
      "outputs": []
    },
    {
      "cell_type": "code",
      "source": [
        "print(other_data[['title', 'suggested']].head())\n"
      ],
      "metadata": {
        "colab": {
          "base_uri": "https://localhost:8080/"
        },
        "id": "Jz7frO3MY8jm",
        "outputId": "caf409ad-233a-4f29-c586-b649d4ddca68"
      },
      "execution_count": 23,
      "outputs": [
        {
          "output_type": "stream",
          "name": "stdout",
          "text": [
            "                           title  suggested\n",
            "0   .hack//G.U. Vol.2//Reminisce      False\n",
            "1  .hack//G.U. Vol.3//Redemption      False\n",
            "2        .hack//Infection Part 1      False\n",
            "3         .hack//Mutation Part 2      False\n",
            "4         .hack//Outbreak Part 3      False\n"
          ]
        }
      ]
    },
    {
      "cell_type": "markdown",
      "source": [
        "Fiz uma váriavel para que o modelo identificasse e trouxesse algum jogo que estava fora de algum requisito minimo mas que o outro estivesse fora da curva."
      ],
      "metadata": {
        "id": "B7mLAkZ69h_6"
      }
    },
    {
      "cell_type": "code",
      "source": [
        "# Calcular média e desvio padrão\n",
        "avg_sales = consolidated_data['total_sales'].mean()\n",
        "std_sales = consolidated_data['total_sales'].std()\n",
        "\n",
        "avg_score = consolidated_data['critic_score'].mean()\n",
        "std_score = consolidated_data['critic_score'].std()\n",
        "\n",
        "# Identificar vendas ou notas discrepantes\n",
        "consolidated_data['is_outlier_sales'] = consolidated_data['total_sales'] > (avg_sales + 2 * std_sales)\n",
        "consolidated_data['is_outlier_score'] = consolidated_data['critic_score'] > (avg_score + 2 * std_score)\n",
        "consolidated_data['is_game_of_interest'] = (\n",
        "    (consolidated_data['is_outlier_sales'] & (consolidated_data['critic_score'] < avg_score)) |\n",
        "    (consolidated_data['is_outlier_score'] & (consolidated_data['total_sales'] < avg_sales))\n",
        ")\n"
      ],
      "metadata": {
        "id": "UMw3zuj8Z5EM"
      },
      "execution_count": 24,
      "outputs": []
    },
    {
      "cell_type": "code",
      "source": [
        "# Atualizar a coluna de interesse\n",
        "consolidated_data['final_label'] = consolidated_data['is_game_of_the_year'] | consolidated_data['is_game_of_interest']\n",
        "\n",
        "# Dividir os dados para treino e teste\n",
        "X = consolidated_data[['critic_score', 'total_sales', 'is_outlier_sales', 'is_outlier_score']]\n",
        "y = consolidated_data['final_label']\n",
        "\n",
        "# Treinar o modelo\n",
        "X_train, X_test, y_train, y_test = train_test_split(X, y, test_size=0.2, random_state=42)\n",
        "model = RandomForestClassifier(n_estimators=100, random_state=42)\n",
        "model.fit(X_train, y_train)\n"
      ],
      "metadata": {
        "colab": {
          "base_uri": "https://localhost:8080/",
          "height": 80
        },
        "id": "E9XO2-moaOvO",
        "outputId": "a8428e35-afc1-48e6-efa0-d5cbeba589fd"
      },
      "execution_count": 25,
      "outputs": [
        {
          "output_type": "execute_result",
          "data": {
            "text/plain": [
              "RandomForestClassifier(random_state=42)"
            ],
            "text/html": [
              "<style>#sk-container-id-2 {\n",
              "  /* Definition of color scheme common for light and dark mode */\n",
              "  --sklearn-color-text: black;\n",
              "  --sklearn-color-line: gray;\n",
              "  /* Definition of color scheme for unfitted estimators */\n",
              "  --sklearn-color-unfitted-level-0: #fff5e6;\n",
              "  --sklearn-color-unfitted-level-1: #f6e4d2;\n",
              "  --sklearn-color-unfitted-level-2: #ffe0b3;\n",
              "  --sklearn-color-unfitted-level-3: chocolate;\n",
              "  /* Definition of color scheme for fitted estimators */\n",
              "  --sklearn-color-fitted-level-0: #f0f8ff;\n",
              "  --sklearn-color-fitted-level-1: #d4ebff;\n",
              "  --sklearn-color-fitted-level-2: #b3dbfd;\n",
              "  --sklearn-color-fitted-level-3: cornflowerblue;\n",
              "\n",
              "  /* Specific color for light theme */\n",
              "  --sklearn-color-text-on-default-background: var(--sg-text-color, var(--theme-code-foreground, var(--jp-content-font-color1, black)));\n",
              "  --sklearn-color-background: var(--sg-background-color, var(--theme-background, var(--jp-layout-color0, white)));\n",
              "  --sklearn-color-border-box: var(--sg-text-color, var(--theme-code-foreground, var(--jp-content-font-color1, black)));\n",
              "  --sklearn-color-icon: #696969;\n",
              "\n",
              "  @media (prefers-color-scheme: dark) {\n",
              "    /* Redefinition of color scheme for dark theme */\n",
              "    --sklearn-color-text-on-default-background: var(--sg-text-color, var(--theme-code-foreground, var(--jp-content-font-color1, white)));\n",
              "    --sklearn-color-background: var(--sg-background-color, var(--theme-background, var(--jp-layout-color0, #111)));\n",
              "    --sklearn-color-border-box: var(--sg-text-color, var(--theme-code-foreground, var(--jp-content-font-color1, white)));\n",
              "    --sklearn-color-icon: #878787;\n",
              "  }\n",
              "}\n",
              "\n",
              "#sk-container-id-2 {\n",
              "  color: var(--sklearn-color-text);\n",
              "}\n",
              "\n",
              "#sk-container-id-2 pre {\n",
              "  padding: 0;\n",
              "}\n",
              "\n",
              "#sk-container-id-2 input.sk-hidden--visually {\n",
              "  border: 0;\n",
              "  clip: rect(1px 1px 1px 1px);\n",
              "  clip: rect(1px, 1px, 1px, 1px);\n",
              "  height: 1px;\n",
              "  margin: -1px;\n",
              "  overflow: hidden;\n",
              "  padding: 0;\n",
              "  position: absolute;\n",
              "  width: 1px;\n",
              "}\n",
              "\n",
              "#sk-container-id-2 div.sk-dashed-wrapped {\n",
              "  border: 1px dashed var(--sklearn-color-line);\n",
              "  margin: 0 0.4em 0.5em 0.4em;\n",
              "  box-sizing: border-box;\n",
              "  padding-bottom: 0.4em;\n",
              "  background-color: var(--sklearn-color-background);\n",
              "}\n",
              "\n",
              "#sk-container-id-2 div.sk-container {\n",
              "  /* jupyter's `normalize.less` sets `[hidden] { display: none; }`\n",
              "     but bootstrap.min.css set `[hidden] { display: none !important; }`\n",
              "     so we also need the `!important` here to be able to override the\n",
              "     default hidden behavior on the sphinx rendered scikit-learn.org.\n",
              "     See: https://github.com/scikit-learn/scikit-learn/issues/21755 */\n",
              "  display: inline-block !important;\n",
              "  position: relative;\n",
              "}\n",
              "\n",
              "#sk-container-id-2 div.sk-text-repr-fallback {\n",
              "  display: none;\n",
              "}\n",
              "\n",
              "div.sk-parallel-item,\n",
              "div.sk-serial,\n",
              "div.sk-item {\n",
              "  /* draw centered vertical line to link estimators */\n",
              "  background-image: linear-gradient(var(--sklearn-color-text-on-default-background), var(--sklearn-color-text-on-default-background));\n",
              "  background-size: 2px 100%;\n",
              "  background-repeat: no-repeat;\n",
              "  background-position: center center;\n",
              "}\n",
              "\n",
              "/* Parallel-specific style estimator block */\n",
              "\n",
              "#sk-container-id-2 div.sk-parallel-item::after {\n",
              "  content: \"\";\n",
              "  width: 100%;\n",
              "  border-bottom: 2px solid var(--sklearn-color-text-on-default-background);\n",
              "  flex-grow: 1;\n",
              "}\n",
              "\n",
              "#sk-container-id-2 div.sk-parallel {\n",
              "  display: flex;\n",
              "  align-items: stretch;\n",
              "  justify-content: center;\n",
              "  background-color: var(--sklearn-color-background);\n",
              "  position: relative;\n",
              "}\n",
              "\n",
              "#sk-container-id-2 div.sk-parallel-item {\n",
              "  display: flex;\n",
              "  flex-direction: column;\n",
              "}\n",
              "\n",
              "#sk-container-id-2 div.sk-parallel-item:first-child::after {\n",
              "  align-self: flex-end;\n",
              "  width: 50%;\n",
              "}\n",
              "\n",
              "#sk-container-id-2 div.sk-parallel-item:last-child::after {\n",
              "  align-self: flex-start;\n",
              "  width: 50%;\n",
              "}\n",
              "\n",
              "#sk-container-id-2 div.sk-parallel-item:only-child::after {\n",
              "  width: 0;\n",
              "}\n",
              "\n",
              "/* Serial-specific style estimator block */\n",
              "\n",
              "#sk-container-id-2 div.sk-serial {\n",
              "  display: flex;\n",
              "  flex-direction: column;\n",
              "  align-items: center;\n",
              "  background-color: var(--sklearn-color-background);\n",
              "  padding-right: 1em;\n",
              "  padding-left: 1em;\n",
              "}\n",
              "\n",
              "\n",
              "/* Toggleable style: style used for estimator/Pipeline/ColumnTransformer box that is\n",
              "clickable and can be expanded/collapsed.\n",
              "- Pipeline and ColumnTransformer use this feature and define the default style\n",
              "- Estimators will overwrite some part of the style using the `sk-estimator` class\n",
              "*/\n",
              "\n",
              "/* Pipeline and ColumnTransformer style (default) */\n",
              "\n",
              "#sk-container-id-2 div.sk-toggleable {\n",
              "  /* Default theme specific background. It is overwritten whether we have a\n",
              "  specific estimator or a Pipeline/ColumnTransformer */\n",
              "  background-color: var(--sklearn-color-background);\n",
              "}\n",
              "\n",
              "/* Toggleable label */\n",
              "#sk-container-id-2 label.sk-toggleable__label {\n",
              "  cursor: pointer;\n",
              "  display: block;\n",
              "  width: 100%;\n",
              "  margin-bottom: 0;\n",
              "  padding: 0.5em;\n",
              "  box-sizing: border-box;\n",
              "  text-align: center;\n",
              "}\n",
              "\n",
              "#sk-container-id-2 label.sk-toggleable__label-arrow:before {\n",
              "  /* Arrow on the left of the label */\n",
              "  content: \"▸\";\n",
              "  float: left;\n",
              "  margin-right: 0.25em;\n",
              "  color: var(--sklearn-color-icon);\n",
              "}\n",
              "\n",
              "#sk-container-id-2 label.sk-toggleable__label-arrow:hover:before {\n",
              "  color: var(--sklearn-color-text);\n",
              "}\n",
              "\n",
              "/* Toggleable content - dropdown */\n",
              "\n",
              "#sk-container-id-2 div.sk-toggleable__content {\n",
              "  max-height: 0;\n",
              "  max-width: 0;\n",
              "  overflow: hidden;\n",
              "  text-align: left;\n",
              "  /* unfitted */\n",
              "  background-color: var(--sklearn-color-unfitted-level-0);\n",
              "}\n",
              "\n",
              "#sk-container-id-2 div.sk-toggleable__content.fitted {\n",
              "  /* fitted */\n",
              "  background-color: var(--sklearn-color-fitted-level-0);\n",
              "}\n",
              "\n",
              "#sk-container-id-2 div.sk-toggleable__content pre {\n",
              "  margin: 0.2em;\n",
              "  border-radius: 0.25em;\n",
              "  color: var(--sklearn-color-text);\n",
              "  /* unfitted */\n",
              "  background-color: var(--sklearn-color-unfitted-level-0);\n",
              "}\n",
              "\n",
              "#sk-container-id-2 div.sk-toggleable__content.fitted pre {\n",
              "  /* unfitted */\n",
              "  background-color: var(--sklearn-color-fitted-level-0);\n",
              "}\n",
              "\n",
              "#sk-container-id-2 input.sk-toggleable__control:checked~div.sk-toggleable__content {\n",
              "  /* Expand drop-down */\n",
              "  max-height: 200px;\n",
              "  max-width: 100%;\n",
              "  overflow: auto;\n",
              "}\n",
              "\n",
              "#sk-container-id-2 input.sk-toggleable__control:checked~label.sk-toggleable__label-arrow:before {\n",
              "  content: \"▾\";\n",
              "}\n",
              "\n",
              "/* Pipeline/ColumnTransformer-specific style */\n",
              "\n",
              "#sk-container-id-2 div.sk-label input.sk-toggleable__control:checked~label.sk-toggleable__label {\n",
              "  color: var(--sklearn-color-text);\n",
              "  background-color: var(--sklearn-color-unfitted-level-2);\n",
              "}\n",
              "\n",
              "#sk-container-id-2 div.sk-label.fitted input.sk-toggleable__control:checked~label.sk-toggleable__label {\n",
              "  background-color: var(--sklearn-color-fitted-level-2);\n",
              "}\n",
              "\n",
              "/* Estimator-specific style */\n",
              "\n",
              "/* Colorize estimator box */\n",
              "#sk-container-id-2 div.sk-estimator input.sk-toggleable__control:checked~label.sk-toggleable__label {\n",
              "  /* unfitted */\n",
              "  background-color: var(--sklearn-color-unfitted-level-2);\n",
              "}\n",
              "\n",
              "#sk-container-id-2 div.sk-estimator.fitted input.sk-toggleable__control:checked~label.sk-toggleable__label {\n",
              "  /* fitted */\n",
              "  background-color: var(--sklearn-color-fitted-level-2);\n",
              "}\n",
              "\n",
              "#sk-container-id-2 div.sk-label label.sk-toggleable__label,\n",
              "#sk-container-id-2 div.sk-label label {\n",
              "  /* The background is the default theme color */\n",
              "  color: var(--sklearn-color-text-on-default-background);\n",
              "}\n",
              "\n",
              "/* On hover, darken the color of the background */\n",
              "#sk-container-id-2 div.sk-label:hover label.sk-toggleable__label {\n",
              "  color: var(--sklearn-color-text);\n",
              "  background-color: var(--sklearn-color-unfitted-level-2);\n",
              "}\n",
              "\n",
              "/* Label box, darken color on hover, fitted */\n",
              "#sk-container-id-2 div.sk-label.fitted:hover label.sk-toggleable__label.fitted {\n",
              "  color: var(--sklearn-color-text);\n",
              "  background-color: var(--sklearn-color-fitted-level-2);\n",
              "}\n",
              "\n",
              "/* Estimator label */\n",
              "\n",
              "#sk-container-id-2 div.sk-label label {\n",
              "  font-family: monospace;\n",
              "  font-weight: bold;\n",
              "  display: inline-block;\n",
              "  line-height: 1.2em;\n",
              "}\n",
              "\n",
              "#sk-container-id-2 div.sk-label-container {\n",
              "  text-align: center;\n",
              "}\n",
              "\n",
              "/* Estimator-specific */\n",
              "#sk-container-id-2 div.sk-estimator {\n",
              "  font-family: monospace;\n",
              "  border: 1px dotted var(--sklearn-color-border-box);\n",
              "  border-radius: 0.25em;\n",
              "  box-sizing: border-box;\n",
              "  margin-bottom: 0.5em;\n",
              "  /* unfitted */\n",
              "  background-color: var(--sklearn-color-unfitted-level-0);\n",
              "}\n",
              "\n",
              "#sk-container-id-2 div.sk-estimator.fitted {\n",
              "  /* fitted */\n",
              "  background-color: var(--sklearn-color-fitted-level-0);\n",
              "}\n",
              "\n",
              "/* on hover */\n",
              "#sk-container-id-2 div.sk-estimator:hover {\n",
              "  /* unfitted */\n",
              "  background-color: var(--sklearn-color-unfitted-level-2);\n",
              "}\n",
              "\n",
              "#sk-container-id-2 div.sk-estimator.fitted:hover {\n",
              "  /* fitted */\n",
              "  background-color: var(--sklearn-color-fitted-level-2);\n",
              "}\n",
              "\n",
              "/* Specification for estimator info (e.g. \"i\" and \"?\") */\n",
              "\n",
              "/* Common style for \"i\" and \"?\" */\n",
              "\n",
              ".sk-estimator-doc-link,\n",
              "a:link.sk-estimator-doc-link,\n",
              "a:visited.sk-estimator-doc-link {\n",
              "  float: right;\n",
              "  font-size: smaller;\n",
              "  line-height: 1em;\n",
              "  font-family: monospace;\n",
              "  background-color: var(--sklearn-color-background);\n",
              "  border-radius: 1em;\n",
              "  height: 1em;\n",
              "  width: 1em;\n",
              "  text-decoration: none !important;\n",
              "  margin-left: 1ex;\n",
              "  /* unfitted */\n",
              "  border: var(--sklearn-color-unfitted-level-1) 1pt solid;\n",
              "  color: var(--sklearn-color-unfitted-level-1);\n",
              "}\n",
              "\n",
              ".sk-estimator-doc-link.fitted,\n",
              "a:link.sk-estimator-doc-link.fitted,\n",
              "a:visited.sk-estimator-doc-link.fitted {\n",
              "  /* fitted */\n",
              "  border: var(--sklearn-color-fitted-level-1) 1pt solid;\n",
              "  color: var(--sklearn-color-fitted-level-1);\n",
              "}\n",
              "\n",
              "/* On hover */\n",
              "div.sk-estimator:hover .sk-estimator-doc-link:hover,\n",
              ".sk-estimator-doc-link:hover,\n",
              "div.sk-label-container:hover .sk-estimator-doc-link:hover,\n",
              ".sk-estimator-doc-link:hover {\n",
              "  /* unfitted */\n",
              "  background-color: var(--sklearn-color-unfitted-level-3);\n",
              "  color: var(--sklearn-color-background);\n",
              "  text-decoration: none;\n",
              "}\n",
              "\n",
              "div.sk-estimator.fitted:hover .sk-estimator-doc-link.fitted:hover,\n",
              ".sk-estimator-doc-link.fitted:hover,\n",
              "div.sk-label-container:hover .sk-estimator-doc-link.fitted:hover,\n",
              ".sk-estimator-doc-link.fitted:hover {\n",
              "  /* fitted */\n",
              "  background-color: var(--sklearn-color-fitted-level-3);\n",
              "  color: var(--sklearn-color-background);\n",
              "  text-decoration: none;\n",
              "}\n",
              "\n",
              "/* Span, style for the box shown on hovering the info icon */\n",
              ".sk-estimator-doc-link span {\n",
              "  display: none;\n",
              "  z-index: 9999;\n",
              "  position: relative;\n",
              "  font-weight: normal;\n",
              "  right: .2ex;\n",
              "  padding: .5ex;\n",
              "  margin: .5ex;\n",
              "  width: min-content;\n",
              "  min-width: 20ex;\n",
              "  max-width: 50ex;\n",
              "  color: var(--sklearn-color-text);\n",
              "  box-shadow: 2pt 2pt 4pt #999;\n",
              "  /* unfitted */\n",
              "  background: var(--sklearn-color-unfitted-level-0);\n",
              "  border: .5pt solid var(--sklearn-color-unfitted-level-3);\n",
              "}\n",
              "\n",
              ".sk-estimator-doc-link.fitted span {\n",
              "  /* fitted */\n",
              "  background: var(--sklearn-color-fitted-level-0);\n",
              "  border: var(--sklearn-color-fitted-level-3);\n",
              "}\n",
              "\n",
              ".sk-estimator-doc-link:hover span {\n",
              "  display: block;\n",
              "}\n",
              "\n",
              "/* \"?\"-specific style due to the `<a>` HTML tag */\n",
              "\n",
              "#sk-container-id-2 a.estimator_doc_link {\n",
              "  float: right;\n",
              "  font-size: 1rem;\n",
              "  line-height: 1em;\n",
              "  font-family: monospace;\n",
              "  background-color: var(--sklearn-color-background);\n",
              "  border-radius: 1rem;\n",
              "  height: 1rem;\n",
              "  width: 1rem;\n",
              "  text-decoration: none;\n",
              "  /* unfitted */\n",
              "  color: var(--sklearn-color-unfitted-level-1);\n",
              "  border: var(--sklearn-color-unfitted-level-1) 1pt solid;\n",
              "}\n",
              "\n",
              "#sk-container-id-2 a.estimator_doc_link.fitted {\n",
              "  /* fitted */\n",
              "  border: var(--sklearn-color-fitted-level-1) 1pt solid;\n",
              "  color: var(--sklearn-color-fitted-level-1);\n",
              "}\n",
              "\n",
              "/* On hover */\n",
              "#sk-container-id-2 a.estimator_doc_link:hover {\n",
              "  /* unfitted */\n",
              "  background-color: var(--sklearn-color-unfitted-level-3);\n",
              "  color: var(--sklearn-color-background);\n",
              "  text-decoration: none;\n",
              "}\n",
              "\n",
              "#sk-container-id-2 a.estimator_doc_link.fitted:hover {\n",
              "  /* fitted */\n",
              "  background-color: var(--sklearn-color-fitted-level-3);\n",
              "}\n",
              "</style><div id=\"sk-container-id-2\" class=\"sk-top-container\"><div class=\"sk-text-repr-fallback\"><pre>RandomForestClassifier(random_state=42)</pre><b>In a Jupyter environment, please rerun this cell to show the HTML representation or trust the notebook. <br />On GitHub, the HTML representation is unable to render, please try loading this page with nbviewer.org.</b></div><div class=\"sk-container\" hidden><div class=\"sk-item\"><div class=\"sk-estimator fitted sk-toggleable\"><input class=\"sk-toggleable__control sk-hidden--visually\" id=\"sk-estimator-id-2\" type=\"checkbox\" checked><label for=\"sk-estimator-id-2\" class=\"sk-toggleable__label fitted sk-toggleable__label-arrow fitted\">&nbsp;&nbsp;RandomForestClassifier<a class=\"sk-estimator-doc-link fitted\" rel=\"noreferrer\" target=\"_blank\" href=\"https://scikit-learn.org/1.5/modules/generated/sklearn.ensemble.RandomForestClassifier.html\">?<span>Documentation for RandomForestClassifier</span></a><span class=\"sk-estimator-doc-link fitted\">i<span>Fitted</span></span></label><div class=\"sk-toggleable__content fitted\"><pre>RandomForestClassifier(random_state=42)</pre></div> </div></div></div></div>"
            ]
          },
          "metadata": {},
          "execution_count": 25
        }
      ]
    },
    {
      "cell_type": "markdown",
      "source": [
        "Apesar da tentativa, não consegui com que o modelo buscasse resultados fora da curva. Abaixo está a matriz de confusão que demonstra como não houveram falsos positivos ou falsos negativos."
      ],
      "metadata": {
        "id": "ahFz5Mup4mXF"
      }
    },
    {
      "cell_type": "code",
      "source": [
        "import matplotlib.pyplot as plt\n",
        "from sklearn.metrics import ConfusionMatrixDisplay\n",
        "\n",
        "# Matriz de Confusão\n",
        "ConfusionMatrixDisplay.from_estimator(model, X_test, y_test)\n",
        "plt.title(\"Matriz de Confusão\")\n",
        "plt.show()\n"
      ],
      "metadata": {
        "colab": {
          "base_uri": "https://localhost:8080/",
          "height": 472
        },
        "id": "-TQaWmai0v57",
        "outputId": "370bffde-b33a-44bb-bf1a-6964c4095761"
      },
      "execution_count": 26,
      "outputs": [
        {
          "output_type": "display_data",
          "data": {
            "text/plain": [
              "<Figure size 640x480 with 2 Axes>"
            ],
            "image/png": "[encoded data removed]"
          },
          "metadata": {}
        }
      ]
    },
    {
      "cell_type": "code",
      "source": [
        "# Importância das features\n",
        "importances = model.feature_importances_\n",
        "features = X.columns\n",
        "plt.barh(features, importances)\n",
        "plt.xlabel(\"Importância\")\n",
        "plt.ylabel(\"Features\")\n",
        "plt.title(\"Importância das Features no Modelo\")\n",
        "plt.show()\n"
      ],
      "metadata": {
        "colab": {
          "base_uri": "https://localhost:8080/",
          "height": 473
        },
        "id": "WKWROSTABHmk",
        "outputId": "20087f9a-b7a8-4328-9ca7-fe26e4c46f90"
      },
      "execution_count": 27,
      "outputs": [
        {
          "output_type": "display_data",
          "data": {
            "text/plain": [
              "<Figure size 640x480 with 1 Axes>"
            ],
            "image/png": "[encoded data removed]"
          },
          "metadata": {}
        }
      ]
    },
    {
      "cell_type": "markdown",
      "source": [
        "Tive um resultado interessante, apesar de não ser o esperado o modelo me sugeriu um jogo que não estava dentro de nenhum dos requisitos minimos e não era um outlier: Star Wars: The Force Unleashed **7.1**  - **7.94**\n"
      ],
      "metadata": {
        "id": "ZeHjAx7q92zY"
      }
    },
    {
      "cell_type": "code",
      "source": [
        "# Fazer predições\n",
        "y_pred = model.predict(X_test)\n",
        "\n",
        "# Ver jogos sugeridos\n",
        "suggested_games = consolidated_data[consolidated_data['final_label'] == True]\n",
        "print(suggested_games[['title', 'critic_score', 'total_sales']])\n"
      ],
      "metadata": {
        "colab": {
          "base_uri": "https://localhost:8080/"
        },
        "id": "Ya7UT3h5aT5X",
        "outputId": "5dd7e673-b41d-4907-afe7-156892cb5a11"
      },
      "execution_count": 28,
      "outputs": [
        {
          "output_type": "stream",
          "name": "stdout",
          "text": [
            "                                       title  critic_score  total_sales\n",
            "173                         Assassin's Creed           8.2        11.29\n",
            "174                      Assassin's Creed II           9.1        11.41\n",
            "177          Assassin's Creed IV: Black Flag           8.7        13.71\n",
            "244                      Batman: Arkham City           9.6        10.29\n",
            "258                            Battlefield 1           9.3        13.16\n",
            "260                            Battlefield 3           8.9        17.32\n",
            "261                            Battlefield 4           8.7        11.12\n",
            "429           Call of Duty 4: Modern Warfare           9.6        18.33\n",
            "431           Call of Duty: Advanced Warfare           9.1        21.78\n",
            "432                  Call of Duty: Black Ops           8.8        30.99\n",
            "433                Call of Duty: Black Ops 3           8.1        15.09\n",
            "434               Call of Duty: Black Ops II           8.6        28.08\n",
            "436                     Call of Duty: Ghosts           8.8        28.80\n",
            "438           Call of Duty: Modern Warfare 2           9.5        25.02\n",
            "439           Call of Duty: Modern Warfare 3           8.8        30.71\n",
            "444                       Call of Duty: WWII           8.1        13.40\n",
            "445               Call of Duty: World at War           8.6        15.94\n",
            "954                                  FIFA 15           8.1        16.28\n",
            "955                                  FIFA 16           9.0        15.82\n",
            "956                                  FIFA 17           8.9        14.65\n",
            "957                                  FIFA 18           8.3        16.12\n",
            "965                           FIFA Soccer 11           8.7        11.77\n",
            "966                           FIFA Soccer 12           9.2        11.68\n",
            "981                                Fallout 4           8.6        13.51\n",
            "1143                    Grand Theft Auto III           9.5        13.11\n",
            "1144                     Grand Theft Auto IV          10.0        22.53\n",
            "1145                      Grand Theft Auto V           9.7        48.43\n",
            "1148  Grand Theft Auto: Liberty City Stories           8.8        11.26\n",
            "1151             Grand Theft Auto: Vice City           9.6        16.19\n",
            "1173        Guitar Hero III: Legends of Rock           8.7        16.36\n",
            "1403       LEGO Star Wars: The Complete Saga           8.0        12.74\n",
            "1623                               Minecraft           9.4        10.06\n",
            "2001                     Red Dead Redemption           9.5        13.07\n",
            "2002                   Red Dead Redemption 2           9.8        13.94\n",
            "2311          Star Wars: The Force Unleashed           7.1         7.94\n",
            "2443             The Elder Scrolls V: Skyrim           9.3        20.51\n",
            "2527                              The Sims 3           8.5        13.74\n"
          ]
        }
      ]
    },
    {
      "cell_type": "markdown",
      "source": [
        "Com esse cross validation é possivel ver que a acurácia ficou alta demais, caindo em overfitting. Mesmo com a tentativa de mudanças nos hiperparamêtros a acurácia caiu muito pouco."
      ],
      "metadata": {
        "id": "q1-3Ccnm5KBo"
      }
    },
    {
      "cell_type": "code",
      "source": [
        "from sklearn.model_selection import cross_val_score\n",
        "scores = cross_val_score(model, X, y, cv=5)\n",
        "print(f\"Acurácia média (cross-validation): {scores.mean()}\")\n"
      ],
      "metadata": {
        "colab": {
          "base_uri": "https://localhost:8080/"
        },
        "id": "MwU-mttQBKrr",
        "outputId": "94986042-66ef-404d-b673-68e28a8357fa"
      },
      "execution_count": 29,
      "outputs": [
        {
          "output_type": "stream",
          "name": "stdout",
          "text": [
            "Acurácia média (cross-validation): 0.9982584456900471\n"
          ]
        }
      ]
    },
    {
      "cell_type": "markdown",
      "source": [
        "Apenas usando esse critério podemos identificar que o modelo realmente trouxe vários jogos que foram ou selecionados ou concorreram a jogos do ano. Porém ele trouxe também todos os outros que se encaixavam no escopo pré-definido, mesmo tentando fazer com que ele me trouxesse jogos outliers que venderam muito e tiveram uma nota abaixo ou que não venderam tanto mas tiveram uma nota altissíma não foi atingido."
      ],
      "metadata": {
        "id": "EJtu59iv_Pks"
      }
    },
    {
      "cell_type": "markdown",
      "source": [
        "## Conclusões e Resumo\n",
        "\n",
        "Neste projeto, o objetivo foi utilizar um modelo de machine learning para classificar jogos como candidatos ao prêmio **Game of the Year (GOTY)** com base em vendas totais e notas críticas.\n",
        "\n",
        "### Desempenho do Modelo\n",
        "- O modelo identificou jogos que atendem aos critérios mínimos de forma satisfatória.\n",
        "- Apesar disso, não conseguiu sugerir jogos que, mesmo fora dos critérios, apresentassem características excepcionais.\n",
        "\n",
        "### Características Relevantes\n",
        "1. **Nota dos Críticos (`critic_score`)**: A variável mais influente.\n",
        "2. **Vendas Totais (`total_sales`)**: Fator relevante para a classificação, especialmente para jogos populares.\n",
        "\n",
        "### Melhorias Sugeridas\n",
        "1. **Ajustar Hiperparâmetros**: Explorar técnicas como validação cruzada e *grid search* para melhorar a performance.\n",
        "2. **Incorporar Novas Features**: Variáveis como gênero, plataforma e data de lançamento podem enriquecer o modelo.\n",
        "3. **Reduzir Overfitting**: Usar regularização e técnicas de balanceamento para melhorar a generalização.\n",
        "4. **Identificar Outliers**: Refinar a lógica para capturar jogos excepcionais fora dos critérios mínimos.\n",
        "\n",
        "### Conclusão Final\n",
        "O uso do **Random Forest** demonstrou ser eficaz, mas melhorias contínuas são necessárias para capturar padrões mais complexos nos dados. Com ajustes futuros, o modelo pode ser capaz de identificar jogos inovadores e excepcionais, alinhando-se às dinâmicas do mercado de jogos.\n"
      ],
      "metadata": {
        "id": "vylMg3_zFZlo"
      }
    }
  ]
}